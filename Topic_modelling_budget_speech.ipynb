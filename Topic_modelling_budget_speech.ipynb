{
  "nbformat": 4,
  "nbformat_minor": 0,
  "metadata": {
    "colab": {
      "provenance": [],
      "include_colab_link": true
    },
    "kernelspec": {
      "name": "python3",
      "display_name": "Python 3"
    },
    "language_info": {
      "name": "python"
    }
  },
  "cells": [
    {
      "cell_type": "markdown",
      "metadata": {
        "id": "view-in-github",
        "colab_type": "text"
      },
      "source": [
        "<a href=\"https://colab.research.google.com/github/cryugesh01/Topic-Modelling/blob/main/Topic_modelling_budget_speech.ipynb\" target=\"_parent\"><img src=\"https://colab.research.google.com/assets/colab-badge.svg\" alt=\"Open In Colab\"/></a>"
      ]
    },
    {
      "cell_type": "code",
      "source": [
        "!pip install Pypdf\n"
      ],
      "metadata": {
        "colab": {
          "base_uri": "https://localhost:8080/"
        },
        "id": "SLemjYjuEYD0",
        "outputId": "9da68370-344b-4cc0-820b-ecaa092cec86"
      },
      "execution_count": null,
      "outputs": [
        {
          "output_type": "stream",
          "name": "stdout",
          "text": [
            "Requirement already satisfied: Pypdf in /usr/local/lib/python3.10/dist-packages (4.3.1)\n",
            "Requirement already satisfied: typing_extensions>=4.0 in /usr/local/lib/python3.10/dist-packages (from Pypdf) (4.12.2)\n"
          ]
        }
      ]
    },
    {
      "cell_type": "code",
      "source": [
        "import pypdf\n",
        "from pypdf import PdfReader\n",
        "import os\n",
        "def extract_text_from_pdf(pdf_path):\n",
        "    text = \"\"\n",
        "    reader = PdfReader(pdf_path)\n",
        "    num_pages = len(reader.pages)\n",
        "    for page_num in range(num_pages):\n",
        "            page = reader.pages[page_num]\n",
        "            text += page.extract_text()\n",
        "    return text\n",
        "\n",
        "# pdf_path should be the directory containing your PDFs\n",
        "pdf_directory = '/content/drive/MyDrive/GLM'\n",
        "all_text = \"\"\n",
        "# Iterate over files within the directory\n",
        "for pdf_file in os.listdir(pdf_directory):\n",
        "    # Check if the file is a PDF\n",
        "    if pdf_file.endswith('.pdf'):\n",
        "        pdf_path = os.path.join(pdf_directory, pdf_file)\n",
        "        pdf_text=extract_text_from_pdf(pdf_path)\n",
        "        all_text += pdf_text + \"\\n\"\n",
        "with open('combined_text.txt', 'w', encoding='utf-8') as text_file:\n",
        "    text_file.write(all_text)"
      ],
      "metadata": {
        "id": "iJMQ5rDOEGcs"
      },
      "execution_count": null,
      "outputs": []
    },
    {
      "cell_type": "code",
      "source": [
        "!pip install gensim\n",
        "!pip install pyLDAvis"
      ],
      "metadata": {
        "colab": {
          "base_uri": "https://localhost:8080/"
        },
        "id": "LZfrNzCqJ7Hf",
        "outputId": "cd8a6025-54c5-46ad-ffc7-ac35d8c8ff48"
      },
      "execution_count": null,
      "outputs": [
        {
          "output_type": "stream",
          "name": "stdout",
          "text": [
            "Requirement already satisfied: gensim in /usr/local/lib/python3.10/dist-packages (4.3.3)\n",
            "Requirement already satisfied: numpy<2.0,>=1.18.5 in /usr/local/lib/python3.10/dist-packages (from gensim) (1.26.4)\n",
            "Requirement already satisfied: scipy<1.14.0,>=1.7.0 in /usr/local/lib/python3.10/dist-packages (from gensim) (1.13.1)\n",
            "Requirement already satisfied: smart-open>=1.8.1 in /usr/local/lib/python3.10/dist-packages (from gensim) (7.0.4)\n",
            "Requirement already satisfied: wrapt in /usr/local/lib/python3.10/dist-packages (from smart-open>=1.8.1->gensim) (1.16.0)\n",
            "Collecting pyLDAvis\n",
            "  Downloading pyLDAvis-3.4.1-py3-none-any.whl.metadata (4.2 kB)\n",
            "Requirement already satisfied: numpy>=1.24.2 in /usr/local/lib/python3.10/dist-packages (from pyLDAvis) (1.26.4)\n",
            "Requirement already satisfied: scipy in /usr/local/lib/python3.10/dist-packages (from pyLDAvis) (1.13.1)\n",
            "Requirement already satisfied: pandas>=2.0.0 in /usr/local/lib/python3.10/dist-packages (from pyLDAvis) (2.1.4)\n",
            "Requirement already satisfied: joblib>=1.2.0 in /usr/local/lib/python3.10/dist-packages (from pyLDAvis) (1.4.2)\n",
            "Requirement already satisfied: jinja2 in /usr/local/lib/python3.10/dist-packages (from pyLDAvis) (3.1.4)\n",
            "Requirement already satisfied: numexpr in /usr/local/lib/python3.10/dist-packages (from pyLDAvis) (2.10.1)\n",
            "Collecting funcy (from pyLDAvis)\n",
            "  Downloading funcy-2.0-py2.py3-none-any.whl.metadata (5.9 kB)\n",
            "Requirement already satisfied: scikit-learn>=1.0.0 in /usr/local/lib/python3.10/dist-packages (from pyLDAvis) (1.3.2)\n",
            "Requirement already satisfied: gensim in /usr/local/lib/python3.10/dist-packages (from pyLDAvis) (4.3.3)\n",
            "Requirement already satisfied: setuptools in /usr/local/lib/python3.10/dist-packages (from pyLDAvis) (71.0.4)\n",
            "Requirement already satisfied: python-dateutil>=2.8.2 in /usr/local/lib/python3.10/dist-packages (from pandas>=2.0.0->pyLDAvis) (2.8.2)\n",
            "Requirement already satisfied: pytz>=2020.1 in /usr/local/lib/python3.10/dist-packages (from pandas>=2.0.0->pyLDAvis) (2024.1)\n",
            "Requirement already satisfied: tzdata>=2022.1 in /usr/local/lib/python3.10/dist-packages (from pandas>=2.0.0->pyLDAvis) (2024.1)\n",
            "Requirement already satisfied: threadpoolctl>=2.0.0 in /usr/local/lib/python3.10/dist-packages (from scikit-learn>=1.0.0->pyLDAvis) (3.5.0)\n",
            "Requirement already satisfied: smart-open>=1.8.1 in /usr/local/lib/python3.10/dist-packages (from gensim->pyLDAvis) (7.0.4)\n",
            "Requirement already satisfied: MarkupSafe>=2.0 in /usr/local/lib/python3.10/dist-packages (from jinja2->pyLDAvis) (2.1.5)\n",
            "Requirement already satisfied: six>=1.5 in /usr/local/lib/python3.10/dist-packages (from python-dateutil>=2.8.2->pandas>=2.0.0->pyLDAvis) (1.16.0)\n",
            "Requirement already satisfied: wrapt in /usr/local/lib/python3.10/dist-packages (from smart-open>=1.8.1->gensim->pyLDAvis) (1.16.0)\n",
            "Downloading pyLDAvis-3.4.1-py3-none-any.whl (2.6 MB)\n",
            "\u001b[2K   \u001b[90m━━━━━━━━━━━━━━━━━━━━━━━━━━━━━━━━━━━━━━━━\u001b[0m \u001b[32m2.6/2.6 MB\u001b[0m \u001b[31m10.3 MB/s\u001b[0m eta \u001b[36m0:00:00\u001b[0m\n",
            "\u001b[?25hDownloading funcy-2.0-py2.py3-none-any.whl (30 kB)\n",
            "Installing collected packages: funcy, pyLDAvis\n",
            "Successfully installed funcy-2.0 pyLDAvis-3.4.1\n"
          ]
        }
      ]
    },
    {
      "cell_type": "code",
      "source": [
        "import spacy\n",
        "import gensim\n",
        "import nltk\n",
        "nltk.download('punkt')\n",
        "import gensim.corpora as corpora\n",
        "from gensim.models import CoherenceModel\n",
        "import pyLDAvis\n",
        "import pyLDAvis.gensim_models\n",
        "import matplotlib.pyplot as plt\n",
        "import warnings\n",
        "warnings.filterwarnings('ignore')"
      ],
      "metadata": {
        "colab": {
          "base_uri": "https://localhost:8080/"
        },
        "id": "KMKzv-CpHtQN",
        "outputId": "f6008e56-a9b8-475a-8caa-bb482aec703e"
      },
      "execution_count": null,
      "outputs": [
        {
          "output_type": "stream",
          "name": "stderr",
          "text": [
            "[nltk_data] Downloading package punkt to /root/nltk_data...\n",
            "[nltk_data]   Unzipping tokenizers/punkt.zip.\n"
          ]
        }
      ]
    },
    {
      "cell_type": "markdown",
      "source": [
        "**Text Preprocessing**"
      ],
      "metadata": {
        "id": "X_kaLkWUL9dV"
      }
    },
    {
      "cell_type": "code",
      "source": [
        "# Lower case conversion\n",
        "data=all_text.lower()\n",
        "data[0:100]"
      ],
      "metadata": {
        "colab": {
          "base_uri": "https://localhost:8080/",
          "height": 35
        },
        "id": "wcNYznKVLJdh",
        "outputId": "e6991964-f7bb-4642-e29f-a8b044debf1d"
      },
      "execution_count": null,
      "outputs": [
        {
          "output_type": "execute_result",
          "data": {
            "text/plain": [
              "'government of india\\ninterim budget 2024-2025\\nspeech\\nof\\nnirmala sitharaman\\nminister of finance\\nfebrua'"
            ],
            "application/vnd.google.colaboratory.intrinsic+json": {
              "type": "string"
            }
          },
          "metadata": {},
          "execution_count": 5
        }
      ]
    },
    {
      "cell_type": "code",
      "source": [
        "# punctutation removal\n",
        "import string\n",
        "punctuations = string.punctuation\n",
        "data = data.translate(str.maketrans('', '', punctuations))\n",
        "data[0:250]"
      ],
      "metadata": {
        "colab": {
          "base_uri": "https://localhost:8080/",
          "height": 52
        },
        "id": "y8Ni4di30ukd",
        "outputId": "e4324ba0-446f-4be2-e9fb-28b4f1e6f4e9"
      },
      "execution_count": null,
      "outputs": [
        {
          "output_type": "execute_result",
          "data": {
            "text/plain": [
              "'government of india\\ninterim budget 20242025\\nspeech\\nof\\nnirmala sitharaman\\nminister of finance\\nfebruary 1  2024 \\ncontents  \\n \\npart – a \\n page no  \\nintroduction  1 \\ninclusive development and growth  2 \\nsocial justice   3  \\nexemplary  track record of gov'"
            ],
            "application/vnd.google.colaboratory.intrinsic+json": {
              "type": "string"
            }
          },
          "metadata": {},
          "execution_count": 8
        }
      ]
    },
    {
      "cell_type": "code",
      "source": [
        "# Remove special charecters\n",
        "def remove_special_characters(text):\n",
        "    special_chars = \"\\'!\\\"#$%&'()*+,-./:;<=>?@[\\\\]^_`{|}~\"\n",
        "\n",
        "    no_special_chars = ''.join([char if char not in special_chars else ' ' for char in text])\n",
        "\n",
        "    return no_special_chars\n",
        "data=remove_special_characters(data)\n",
        "res = \"\".join(filter(lambda x: not x.isdigit(), data))\n",
        "print(res[0:50])\n",
        "new_str = res.replace('\"', '')"
      ],
      "metadata": {
        "colab": {
          "base_uri": "https://localhost:8080/"
        },
        "id": "jyyuK-Z5fe24",
        "outputId": "ca2c2c42-32a2-4c84-d039-d5bd36f801c5"
      },
      "execution_count": null,
      "outputs": [
        {
          "output_type": "stream",
          "name": "stdout",
          "text": [
            "government of india\n",
            "interim budget \n",
            "speech\n",
            "of\n",
            "nirm\n"
          ]
        }
      ]
    },
    {
      "cell_type": "code",
      "source": [
        "# Stopwords removal\n",
        "from gensim.parsing.preprocessing import remove_stopwords\n",
        "clean_data = remove_stopwords(res)\n",
        "print(clean_data[:250])"
      ],
      "metadata": {
        "colab": {
          "base_uri": "https://localhost:8080/"
        },
        "id": "cY3Oz2CjNO1r",
        "outputId": "79faee00-95e3-4770-90e9-45f1d40f284d"
      },
      "execution_count": null,
      "outputs": [
        {
          "output_type": "stream",
          "name": "stdout",
          "text": [
            "government india interim budget speech nirmala sitharaman minister finance february contents – page introduction inclusive development growth social justice exemplary track record governance development performance gdp economic management global cont\n"
          ]
        }
      ]
    },
    {
      "cell_type": "code",
      "source": [
        "def tolist(string):\n",
        "    li = list(string.split(\" \"))\n",
        "    return li\n",
        "data=tolist(clean_data)\n",
        "data[0:10]"
      ],
      "metadata": {
        "colab": {
          "base_uri": "https://localhost:8080/"
        },
        "id": "KgDBW5GTOmFZ",
        "outputId": "34baad79-ebbb-47af-e061-0267ff2b3754"
      },
      "execution_count": null,
      "outputs": [
        {
          "output_type": "execute_result",
          "data": {
            "text/plain": [
              "['government',\n",
              " 'india',\n",
              " 'interim',\n",
              " 'budget',\n",
              " 'speech',\n",
              " 'nirmala',\n",
              " 'sitharaman',\n",
              " 'minister',\n",
              " 'finance',\n",
              " 'february']"
            ]
          },
          "metadata": {},
          "execution_count": 11
        }
      ]
    },
    {
      "cell_type": "code",
      "source": [
        "# Lemmatization\n",
        "import spacy\n",
        "def lemmatize_words(words):\n",
        "    nlp = spacy.load('en_core_web_sm', disable=['parser', 'ner'])\n",
        "    lemmatized_words = [token.lemma_ for token in nlp(\" \".join(words))]\n",
        "    return lemmatized_words\n",
        "\n",
        "text=lemmatize_words(data)\n",
        "print(text[20])"
      ],
      "metadata": {
        "colab": {
          "base_uri": "https://localhost:8080/",
          "height": 339
        },
        "id": "aa13puCBPwlT",
        "outputId": "61a0bd07-22ba-4b88-a531-c1bc9e4ca5ba"
      },
      "execution_count": null,
      "outputs": [
        {
          "output_type": "error",
          "ename": "KeyboardInterrupt",
          "evalue": "",
          "traceback": [
            "\u001b[0;31m---------------------------------------------------------------------------\u001b[0m",
            "\u001b[0;31mKeyboardInterrupt\u001b[0m                         Traceback (most recent call last)",
            "\u001b[0;32m<ipython-input-14-c89ba3b75f0f>\u001b[0m in \u001b[0;36m<cell line: 8>\u001b[0;34m()\u001b[0m\n\u001b[1;32m      6\u001b[0m     \u001b[0;32mreturn\u001b[0m \u001b[0mlemmatized_words\u001b[0m\u001b[0;34m\u001b[0m\u001b[0;34m\u001b[0m\u001b[0m\n\u001b[1;32m      7\u001b[0m \u001b[0;34m\u001b[0m\u001b[0m\n\u001b[0;32m----> 8\u001b[0;31m \u001b[0mtext\u001b[0m\u001b[0;34m=\u001b[0m\u001b[0mlemmatize_words\u001b[0m\u001b[0;34m(\u001b[0m\u001b[0mdata\u001b[0m\u001b[0;34m)\u001b[0m\u001b[0;34m\u001b[0m\u001b[0;34m\u001b[0m\u001b[0m\n\u001b[0m\u001b[1;32m      9\u001b[0m \u001b[0mprint\u001b[0m\u001b[0;34m(\u001b[0m\u001b[0mtext\u001b[0m\u001b[0;34m[\u001b[0m\u001b[0;36m20\u001b[0m\u001b[0;34m]\u001b[0m\u001b[0;34m)\u001b[0m\u001b[0;34m\u001b[0m\u001b[0;34m\u001b[0m\u001b[0m\n",
            "\u001b[0;32m<ipython-input-14-c89ba3b75f0f>\u001b[0m in \u001b[0;36mlemmatize_words\u001b[0;34m(words)\u001b[0m\n\u001b[1;32m      3\u001b[0m \u001b[0;32mdef\u001b[0m \u001b[0mlemmatize_words\u001b[0m\u001b[0;34m(\u001b[0m\u001b[0mwords\u001b[0m\u001b[0;34m)\u001b[0m\u001b[0;34m:\u001b[0m\u001b[0;34m\u001b[0m\u001b[0;34m\u001b[0m\u001b[0m\n\u001b[1;32m      4\u001b[0m     \u001b[0mnlp\u001b[0m \u001b[0;34m=\u001b[0m \u001b[0mspacy\u001b[0m\u001b[0;34m.\u001b[0m\u001b[0mload\u001b[0m\u001b[0;34m(\u001b[0m\u001b[0;34m'en_core_web_sm'\u001b[0m\u001b[0;34m,\u001b[0m \u001b[0mdisable\u001b[0m\u001b[0;34m=\u001b[0m\u001b[0;34m[\u001b[0m\u001b[0;34m'parser'\u001b[0m\u001b[0;34m,\u001b[0m \u001b[0;34m'ner'\u001b[0m\u001b[0;34m]\u001b[0m\u001b[0;34m)\u001b[0m\u001b[0;34m\u001b[0m\u001b[0;34m\u001b[0m\u001b[0m\n\u001b[0;32m----> 5\u001b[0;31m     \u001b[0mlemmatized_words\u001b[0m \u001b[0;34m=\u001b[0m \u001b[0;34m[\u001b[0m\u001b[0mtoken\u001b[0m\u001b[0;34m.\u001b[0m\u001b[0mlemma_\u001b[0m \u001b[0;32mfor\u001b[0m \u001b[0mtoken\u001b[0m \u001b[0;32min\u001b[0m \u001b[0mnlp\u001b[0m\u001b[0;34m(\u001b[0m\u001b[0;34m\" \"\u001b[0m\u001b[0;34m.\u001b[0m\u001b[0mjoin\u001b[0m\u001b[0;34m(\u001b[0m\u001b[0mwords\u001b[0m\u001b[0;34m)\u001b[0m\u001b[0;34m)\u001b[0m\u001b[0;34m]\u001b[0m\u001b[0;34m\u001b[0m\u001b[0;34m\u001b[0m\u001b[0m\n\u001b[0m\u001b[1;32m      6\u001b[0m     \u001b[0;32mreturn\u001b[0m \u001b[0mlemmatized_words\u001b[0m\u001b[0;34m\u001b[0m\u001b[0;34m\u001b[0m\u001b[0m\n\u001b[1;32m      7\u001b[0m \u001b[0;34m\u001b[0m\u001b[0m\n",
            "\u001b[0;32m/usr/local/lib/python3.10/dist-packages/spacy/language.py\u001b[0m in \u001b[0;36m__call__\u001b[0;34m(self, text, disable, component_cfg)\u001b[0m\n\u001b[1;32m   1047\u001b[0m                 \u001b[0merror_handler\u001b[0m \u001b[0;34m=\u001b[0m \u001b[0mproc\u001b[0m\u001b[0;34m.\u001b[0m\u001b[0mget_error_handler\u001b[0m\u001b[0;34m(\u001b[0m\u001b[0;34m)\u001b[0m\u001b[0;34m\u001b[0m\u001b[0;34m\u001b[0m\u001b[0m\n\u001b[1;32m   1048\u001b[0m             \u001b[0;32mtry\u001b[0m\u001b[0;34m:\u001b[0m\u001b[0;34m\u001b[0m\u001b[0;34m\u001b[0m\u001b[0m\n\u001b[0;32m-> 1049\u001b[0;31m                 \u001b[0mdoc\u001b[0m \u001b[0;34m=\u001b[0m \u001b[0mproc\u001b[0m\u001b[0;34m(\u001b[0m\u001b[0mdoc\u001b[0m\u001b[0;34m,\u001b[0m \u001b[0;34m**\u001b[0m\u001b[0mcomponent_cfg\u001b[0m\u001b[0;34m.\u001b[0m\u001b[0mget\u001b[0m\u001b[0;34m(\u001b[0m\u001b[0mname\u001b[0m\u001b[0;34m,\u001b[0m \u001b[0;34m{\u001b[0m\u001b[0;34m}\u001b[0m\u001b[0;34m)\u001b[0m\u001b[0;34m)\u001b[0m  \u001b[0;31m# type: ignore[call-arg]\u001b[0m\u001b[0;34m\u001b[0m\u001b[0;34m\u001b[0m\u001b[0m\n\u001b[0m\u001b[1;32m   1050\u001b[0m             \u001b[0;32mexcept\u001b[0m \u001b[0mKeyError\u001b[0m \u001b[0;32mas\u001b[0m \u001b[0me\u001b[0m\u001b[0;34m:\u001b[0m\u001b[0;34m\u001b[0m\u001b[0;34m\u001b[0m\u001b[0m\n\u001b[1;32m   1051\u001b[0m                 \u001b[0;31m# This typically happens if a component is not initialized\u001b[0m\u001b[0;34m\u001b[0m\u001b[0;34m\u001b[0m\u001b[0m\n",
            "\u001b[0;32m/usr/local/lib/python3.10/dist-packages/spacy/pipeline/trainable_pipe.pyx\u001b[0m in \u001b[0;36mspacy.pipeline.trainable_pipe.TrainablePipe.__call__\u001b[0;34m()\u001b[0m\n",
            "\u001b[0;32m/usr/local/lib/python3.10/dist-packages/spacy/pipeline/tok2vec.py\u001b[0m in \u001b[0;36mpredict\u001b[0;34m(self, docs)\u001b[0m\n\u001b[1;32m    124\u001b[0m             \u001b[0mwidth\u001b[0m \u001b[0;34m=\u001b[0m \u001b[0mself\u001b[0m\u001b[0;34m.\u001b[0m\u001b[0mmodel\u001b[0m\u001b[0;34m.\u001b[0m\u001b[0mget_dim\u001b[0m\u001b[0;34m(\u001b[0m\u001b[0;34m\"nO\"\u001b[0m\u001b[0;34m)\u001b[0m\u001b[0;34m\u001b[0m\u001b[0;34m\u001b[0m\u001b[0m\n\u001b[1;32m    125\u001b[0m             \u001b[0;32mreturn\u001b[0m \u001b[0;34m[\u001b[0m\u001b[0mself\u001b[0m\u001b[0;34m.\u001b[0m\u001b[0mmodel\u001b[0m\u001b[0;34m.\u001b[0m\u001b[0mops\u001b[0m\u001b[0;34m.\u001b[0m\u001b[0malloc\u001b[0m\u001b[0;34m(\u001b[0m\u001b[0;34m(\u001b[0m\u001b[0;36m0\u001b[0m\u001b[0;34m,\u001b[0m \u001b[0mwidth\u001b[0m\u001b[0;34m)\u001b[0m\u001b[0;34m)\u001b[0m \u001b[0;32mfor\u001b[0m \u001b[0mdoc\u001b[0m \u001b[0;32min\u001b[0m \u001b[0mdocs\u001b[0m\u001b[0;34m]\u001b[0m\u001b[0;34m\u001b[0m\u001b[0;34m\u001b[0m\u001b[0m\n\u001b[0;32m--> 126\u001b[0;31m         \u001b[0mtokvecs\u001b[0m \u001b[0;34m=\u001b[0m \u001b[0mself\u001b[0m\u001b[0;34m.\u001b[0m\u001b[0mmodel\u001b[0m\u001b[0;34m.\u001b[0m\u001b[0mpredict\u001b[0m\u001b[0;34m(\u001b[0m\u001b[0mdocs\u001b[0m\u001b[0;34m)\u001b[0m\u001b[0;34m\u001b[0m\u001b[0;34m\u001b[0m\u001b[0m\n\u001b[0m\u001b[1;32m    127\u001b[0m         \u001b[0;32mreturn\u001b[0m \u001b[0mtokvecs\u001b[0m\u001b[0;34m\u001b[0m\u001b[0;34m\u001b[0m\u001b[0m\n\u001b[1;32m    128\u001b[0m \u001b[0;34m\u001b[0m\u001b[0m\n",
            "\u001b[0;32m/usr/local/lib/python3.10/dist-packages/thinc/model.py\u001b[0m in \u001b[0;36mpredict\u001b[0;34m(self, X)\u001b[0m\n\u001b[1;32m    332\u001b[0m         \u001b[0monly\u001b[0m \u001b[0mthe\u001b[0m \u001b[0moutput\u001b[0m\u001b[0;34m,\u001b[0m \u001b[0minstead\u001b[0m \u001b[0mof\u001b[0m \u001b[0mthe\u001b[0m\u001b[0;31m \u001b[0m\u001b[0;31m`\u001b[0m\u001b[0;34m(\u001b[0m\u001b[0moutput\u001b[0m\u001b[0;34m,\u001b[0m \u001b[0mcallback\u001b[0m\u001b[0;34m)\u001b[0m\u001b[0;31m`\u001b[0m \u001b[0mtuple\u001b[0m\u001b[0;34m.\u001b[0m\u001b[0;34m\u001b[0m\u001b[0;34m\u001b[0m\u001b[0m\n\u001b[1;32m    333\u001b[0m         \"\"\"\n\u001b[0;32m--> 334\u001b[0;31m         \u001b[0;32mreturn\u001b[0m \u001b[0mself\u001b[0m\u001b[0;34m.\u001b[0m\u001b[0m_func\u001b[0m\u001b[0;34m(\u001b[0m\u001b[0mself\u001b[0m\u001b[0;34m,\u001b[0m \u001b[0mX\u001b[0m\u001b[0;34m,\u001b[0m \u001b[0mis_train\u001b[0m\u001b[0;34m=\u001b[0m\u001b[0;32mFalse\u001b[0m\u001b[0;34m)\u001b[0m\u001b[0;34m[\u001b[0m\u001b[0;36m0\u001b[0m\u001b[0;34m]\u001b[0m\u001b[0;34m\u001b[0m\u001b[0;34m\u001b[0m\u001b[0m\n\u001b[0m\u001b[1;32m    335\u001b[0m \u001b[0;34m\u001b[0m\u001b[0m\n\u001b[1;32m    336\u001b[0m     \u001b[0;32mdef\u001b[0m \u001b[0mfinish_update\u001b[0m\u001b[0;34m(\u001b[0m\u001b[0mself\u001b[0m\u001b[0;34m,\u001b[0m \u001b[0moptimizer\u001b[0m\u001b[0;34m:\u001b[0m \u001b[0mOptimizer\u001b[0m\u001b[0;34m)\u001b[0m \u001b[0;34m->\u001b[0m \u001b[0;32mNone\u001b[0m\u001b[0;34m:\u001b[0m\u001b[0;34m\u001b[0m\u001b[0;34m\u001b[0m\u001b[0m\n",
            "\u001b[0;32m/usr/local/lib/python3.10/dist-packages/thinc/layers/chain.py\u001b[0m in \u001b[0;36mforward\u001b[0;34m(model, X, is_train)\u001b[0m\n\u001b[1;32m     52\u001b[0m     \u001b[0mcallbacks\u001b[0m \u001b[0;34m=\u001b[0m \u001b[0;34m[\u001b[0m\u001b[0;34m]\u001b[0m\u001b[0;34m\u001b[0m\u001b[0;34m\u001b[0m\u001b[0m\n\u001b[1;32m     53\u001b[0m     \u001b[0;32mfor\u001b[0m \u001b[0mlayer\u001b[0m \u001b[0;32min\u001b[0m \u001b[0mmodel\u001b[0m\u001b[0;34m.\u001b[0m\u001b[0mlayers\u001b[0m\u001b[0;34m:\u001b[0m\u001b[0;34m\u001b[0m\u001b[0;34m\u001b[0m\u001b[0m\n\u001b[0;32m---> 54\u001b[0;31m         \u001b[0mY\u001b[0m\u001b[0;34m,\u001b[0m \u001b[0minc_layer_grad\u001b[0m \u001b[0;34m=\u001b[0m \u001b[0mlayer\u001b[0m\u001b[0;34m(\u001b[0m\u001b[0mX\u001b[0m\u001b[0;34m,\u001b[0m \u001b[0mis_train\u001b[0m\u001b[0;34m=\u001b[0m\u001b[0mis_train\u001b[0m\u001b[0;34m)\u001b[0m\u001b[0;34m\u001b[0m\u001b[0;34m\u001b[0m\u001b[0m\n\u001b[0m\u001b[1;32m     55\u001b[0m         \u001b[0mcallbacks\u001b[0m\u001b[0;34m.\u001b[0m\u001b[0mappend\u001b[0m\u001b[0;34m(\u001b[0m\u001b[0minc_layer_grad\u001b[0m\u001b[0;34m)\u001b[0m\u001b[0;34m\u001b[0m\u001b[0;34m\u001b[0m\u001b[0m\n\u001b[1;32m     56\u001b[0m         \u001b[0mX\u001b[0m \u001b[0;34m=\u001b[0m \u001b[0mY\u001b[0m\u001b[0;34m\u001b[0m\u001b[0;34m\u001b[0m\u001b[0m\n",
            "\u001b[0;32m/usr/local/lib/python3.10/dist-packages/thinc/model.py\u001b[0m in \u001b[0;36m__call__\u001b[0;34m(self, X, is_train)\u001b[0m\n\u001b[1;32m    308\u001b[0m         \"\"\"Call the model's `forward` function, returning the output and a\n\u001b[1;32m    309\u001b[0m         callback to compute the gradients via backpropagation.\"\"\"\n\u001b[0;32m--> 310\u001b[0;31m         \u001b[0;32mreturn\u001b[0m \u001b[0mself\u001b[0m\u001b[0;34m.\u001b[0m\u001b[0m_func\u001b[0m\u001b[0;34m(\u001b[0m\u001b[0mself\u001b[0m\u001b[0;34m,\u001b[0m \u001b[0mX\u001b[0m\u001b[0;34m,\u001b[0m \u001b[0mis_train\u001b[0m\u001b[0;34m=\u001b[0m\u001b[0mis_train\u001b[0m\u001b[0;34m)\u001b[0m\u001b[0;34m\u001b[0m\u001b[0;34m\u001b[0m\u001b[0m\n\u001b[0m\u001b[1;32m    311\u001b[0m \u001b[0;34m\u001b[0m\u001b[0m\n\u001b[1;32m    312\u001b[0m     \u001b[0;32mdef\u001b[0m \u001b[0minitialize\u001b[0m\u001b[0;34m(\u001b[0m\u001b[0mself\u001b[0m\u001b[0;34m,\u001b[0m \u001b[0mX\u001b[0m\u001b[0;34m:\u001b[0m \u001b[0mOptional\u001b[0m\u001b[0;34m[\u001b[0m\u001b[0mInT\u001b[0m\u001b[0;34m]\u001b[0m \u001b[0;34m=\u001b[0m \u001b[0;32mNone\u001b[0m\u001b[0;34m,\u001b[0m \u001b[0mY\u001b[0m\u001b[0;34m:\u001b[0m \u001b[0mOptional\u001b[0m\u001b[0;34m[\u001b[0m\u001b[0mOutT\u001b[0m\u001b[0;34m]\u001b[0m \u001b[0;34m=\u001b[0m \u001b[0;32mNone\u001b[0m\u001b[0;34m)\u001b[0m \u001b[0;34m->\u001b[0m \u001b[0;34m\"Model\"\u001b[0m\u001b[0;34m:\u001b[0m\u001b[0;34m\u001b[0m\u001b[0;34m\u001b[0m\u001b[0m\n",
            "\u001b[0;32m/usr/local/lib/python3.10/dist-packages/thinc/layers/with_array.py\u001b[0m in \u001b[0;36mforward\u001b[0;34m(model, Xseq, is_train)\u001b[0m\n\u001b[1;32m     40\u001b[0m         \u001b[0;32mreturn\u001b[0m \u001b[0mmodel\u001b[0m\u001b[0;34m.\u001b[0m\u001b[0mlayers\u001b[0m\u001b[0;34m[\u001b[0m\u001b[0;36m0\u001b[0m\u001b[0;34m]\u001b[0m\u001b[0;34m(\u001b[0m\u001b[0mXseq\u001b[0m\u001b[0;34m,\u001b[0m \u001b[0mis_train\u001b[0m\u001b[0;34m)\u001b[0m\u001b[0;34m\u001b[0m\u001b[0;34m\u001b[0m\u001b[0m\n\u001b[1;32m     41\u001b[0m     \u001b[0;32melse\u001b[0m\u001b[0;34m:\u001b[0m\u001b[0;34m\u001b[0m\u001b[0;34m\u001b[0m\u001b[0m\n\u001b[0;32m---> 42\u001b[0;31m         \u001b[0;32mreturn\u001b[0m \u001b[0mcast\u001b[0m\u001b[0;34m(\u001b[0m\u001b[0mTuple\u001b[0m\u001b[0;34m[\u001b[0m\u001b[0mSeqT\u001b[0m\u001b[0;34m,\u001b[0m \u001b[0mCallable\u001b[0m\u001b[0;34m]\u001b[0m\u001b[0;34m,\u001b[0m \u001b[0m_list_forward\u001b[0m\u001b[0;34m(\u001b[0m\u001b[0mmodel\u001b[0m\u001b[0;34m,\u001b[0m \u001b[0mXseq\u001b[0m\u001b[0;34m,\u001b[0m \u001b[0mis_train\u001b[0m\u001b[0;34m)\u001b[0m\u001b[0;34m)\u001b[0m\u001b[0;34m\u001b[0m\u001b[0;34m\u001b[0m\u001b[0m\n\u001b[0m\u001b[1;32m     43\u001b[0m \u001b[0;34m\u001b[0m\u001b[0m\n\u001b[1;32m     44\u001b[0m \u001b[0;34m\u001b[0m\u001b[0m\n",
            "\u001b[0;32m/usr/local/lib/python3.10/dist-packages/thinc/layers/with_array.py\u001b[0m in \u001b[0;36m_list_forward\u001b[0;34m(model, Xs, is_train)\u001b[0m\n\u001b[1;32m     75\u001b[0m     \u001b[0mlengths\u001b[0m \u001b[0;34m=\u001b[0m \u001b[0mNUMPY_OPS\u001b[0m\u001b[0;34m.\u001b[0m\u001b[0masarray1i\u001b[0m\u001b[0;34m(\u001b[0m\u001b[0;34m[\u001b[0m\u001b[0mlen\u001b[0m\u001b[0;34m(\u001b[0m\u001b[0mseq\u001b[0m\u001b[0;34m)\u001b[0m \u001b[0;32mfor\u001b[0m \u001b[0mseq\u001b[0m \u001b[0;32min\u001b[0m \u001b[0mXs\u001b[0m\u001b[0;34m]\u001b[0m\u001b[0;34m)\u001b[0m\u001b[0;34m\u001b[0m\u001b[0;34m\u001b[0m\u001b[0m\n\u001b[1;32m     76\u001b[0m     \u001b[0mXf\u001b[0m \u001b[0;34m=\u001b[0m \u001b[0mlayer\u001b[0m\u001b[0;34m.\u001b[0m\u001b[0mops\u001b[0m\u001b[0;34m.\u001b[0m\u001b[0mflatten\u001b[0m\u001b[0;34m(\u001b[0m\u001b[0mXs\u001b[0m\u001b[0;34m,\u001b[0m \u001b[0mpad\u001b[0m\u001b[0;34m=\u001b[0m\u001b[0mpad\u001b[0m\u001b[0;34m)\u001b[0m\u001b[0;34m\u001b[0m\u001b[0;34m\u001b[0m\u001b[0m\n\u001b[0;32m---> 77\u001b[0;31m     \u001b[0mYf\u001b[0m\u001b[0;34m,\u001b[0m \u001b[0mget_dXf\u001b[0m \u001b[0;34m=\u001b[0m \u001b[0mlayer\u001b[0m\u001b[0;34m(\u001b[0m\u001b[0mXf\u001b[0m\u001b[0;34m,\u001b[0m \u001b[0mis_train\u001b[0m\u001b[0;34m)\u001b[0m\u001b[0;34m\u001b[0m\u001b[0;34m\u001b[0m\u001b[0m\n\u001b[0m\u001b[1;32m     78\u001b[0m \u001b[0;34m\u001b[0m\u001b[0m\n\u001b[1;32m     79\u001b[0m     \u001b[0;32mdef\u001b[0m \u001b[0mbackprop\u001b[0m\u001b[0;34m(\u001b[0m\u001b[0mdYs\u001b[0m\u001b[0;34m:\u001b[0m \u001b[0mListXd\u001b[0m\u001b[0;34m)\u001b[0m \u001b[0;34m->\u001b[0m \u001b[0mListXd\u001b[0m\u001b[0;34m:\u001b[0m\u001b[0;34m\u001b[0m\u001b[0;34m\u001b[0m\u001b[0m\n",
            "\u001b[0;32m/usr/local/lib/python3.10/dist-packages/thinc/model.py\u001b[0m in \u001b[0;36m__call__\u001b[0;34m(self, X, is_train)\u001b[0m\n\u001b[1;32m    308\u001b[0m         \"\"\"Call the model's `forward` function, returning the output and a\n\u001b[1;32m    309\u001b[0m         callback to compute the gradients via backpropagation.\"\"\"\n\u001b[0;32m--> 310\u001b[0;31m         \u001b[0;32mreturn\u001b[0m \u001b[0mself\u001b[0m\u001b[0;34m.\u001b[0m\u001b[0m_func\u001b[0m\u001b[0;34m(\u001b[0m\u001b[0mself\u001b[0m\u001b[0;34m,\u001b[0m \u001b[0mX\u001b[0m\u001b[0;34m,\u001b[0m \u001b[0mis_train\u001b[0m\u001b[0;34m=\u001b[0m\u001b[0mis_train\u001b[0m\u001b[0;34m)\u001b[0m\u001b[0;34m\u001b[0m\u001b[0;34m\u001b[0m\u001b[0m\n\u001b[0m\u001b[1;32m    311\u001b[0m \u001b[0;34m\u001b[0m\u001b[0m\n\u001b[1;32m    312\u001b[0m     \u001b[0;32mdef\u001b[0m \u001b[0minitialize\u001b[0m\u001b[0;34m(\u001b[0m\u001b[0mself\u001b[0m\u001b[0;34m,\u001b[0m \u001b[0mX\u001b[0m\u001b[0;34m:\u001b[0m \u001b[0mOptional\u001b[0m\u001b[0;34m[\u001b[0m\u001b[0mInT\u001b[0m\u001b[0;34m]\u001b[0m \u001b[0;34m=\u001b[0m \u001b[0;32mNone\u001b[0m\u001b[0;34m,\u001b[0m \u001b[0mY\u001b[0m\u001b[0;34m:\u001b[0m \u001b[0mOptional\u001b[0m\u001b[0;34m[\u001b[0m\u001b[0mOutT\u001b[0m\u001b[0;34m]\u001b[0m \u001b[0;34m=\u001b[0m \u001b[0;32mNone\u001b[0m\u001b[0;34m)\u001b[0m \u001b[0;34m->\u001b[0m \u001b[0;34m\"Model\"\u001b[0m\u001b[0;34m:\u001b[0m\u001b[0;34m\u001b[0m\u001b[0;34m\u001b[0m\u001b[0m\n",
            "\u001b[0;32m/usr/local/lib/python3.10/dist-packages/thinc/layers/chain.py\u001b[0m in \u001b[0;36mforward\u001b[0;34m(model, X, is_train)\u001b[0m\n\u001b[1;32m     52\u001b[0m     \u001b[0mcallbacks\u001b[0m \u001b[0;34m=\u001b[0m \u001b[0;34m[\u001b[0m\u001b[0;34m]\u001b[0m\u001b[0;34m\u001b[0m\u001b[0;34m\u001b[0m\u001b[0m\n\u001b[1;32m     53\u001b[0m     \u001b[0;32mfor\u001b[0m \u001b[0mlayer\u001b[0m \u001b[0;32min\u001b[0m \u001b[0mmodel\u001b[0m\u001b[0;34m.\u001b[0m\u001b[0mlayers\u001b[0m\u001b[0;34m:\u001b[0m\u001b[0;34m\u001b[0m\u001b[0;34m\u001b[0m\u001b[0m\n\u001b[0;32m---> 54\u001b[0;31m         \u001b[0mY\u001b[0m\u001b[0;34m,\u001b[0m \u001b[0minc_layer_grad\u001b[0m \u001b[0;34m=\u001b[0m \u001b[0mlayer\u001b[0m\u001b[0;34m(\u001b[0m\u001b[0mX\u001b[0m\u001b[0;34m,\u001b[0m \u001b[0mis_train\u001b[0m\u001b[0;34m=\u001b[0m\u001b[0mis_train\u001b[0m\u001b[0;34m)\u001b[0m\u001b[0;34m\u001b[0m\u001b[0;34m\u001b[0m\u001b[0m\n\u001b[0m\u001b[1;32m     55\u001b[0m         \u001b[0mcallbacks\u001b[0m\u001b[0;34m.\u001b[0m\u001b[0mappend\u001b[0m\u001b[0;34m(\u001b[0m\u001b[0minc_layer_grad\u001b[0m\u001b[0;34m)\u001b[0m\u001b[0;34m\u001b[0m\u001b[0;34m\u001b[0m\u001b[0m\n\u001b[1;32m     56\u001b[0m         \u001b[0mX\u001b[0m \u001b[0;34m=\u001b[0m \u001b[0mY\u001b[0m\u001b[0;34m\u001b[0m\u001b[0;34m\u001b[0m\u001b[0m\n",
            "\u001b[0;32m/usr/local/lib/python3.10/dist-packages/thinc/model.py\u001b[0m in \u001b[0;36m__call__\u001b[0;34m(self, X, is_train)\u001b[0m\n\u001b[1;32m    308\u001b[0m         \"\"\"Call the model's `forward` function, returning the output and a\n\u001b[1;32m    309\u001b[0m         callback to compute the gradients via backpropagation.\"\"\"\n\u001b[0;32m--> 310\u001b[0;31m         \u001b[0;32mreturn\u001b[0m \u001b[0mself\u001b[0m\u001b[0;34m.\u001b[0m\u001b[0m_func\u001b[0m\u001b[0;34m(\u001b[0m\u001b[0mself\u001b[0m\u001b[0;34m,\u001b[0m \u001b[0mX\u001b[0m\u001b[0;34m,\u001b[0m \u001b[0mis_train\u001b[0m\u001b[0;34m=\u001b[0m\u001b[0mis_train\u001b[0m\u001b[0;34m)\u001b[0m\u001b[0;34m\u001b[0m\u001b[0;34m\u001b[0m\u001b[0m\n\u001b[0m\u001b[1;32m    311\u001b[0m \u001b[0;34m\u001b[0m\u001b[0m\n\u001b[1;32m    312\u001b[0m     \u001b[0;32mdef\u001b[0m \u001b[0minitialize\u001b[0m\u001b[0;34m(\u001b[0m\u001b[0mself\u001b[0m\u001b[0;34m,\u001b[0m \u001b[0mX\u001b[0m\u001b[0;34m:\u001b[0m \u001b[0mOptional\u001b[0m\u001b[0;34m[\u001b[0m\u001b[0mInT\u001b[0m\u001b[0;34m]\u001b[0m \u001b[0;34m=\u001b[0m \u001b[0;32mNone\u001b[0m\u001b[0;34m,\u001b[0m \u001b[0mY\u001b[0m\u001b[0;34m:\u001b[0m \u001b[0mOptional\u001b[0m\u001b[0;34m[\u001b[0m\u001b[0mOutT\u001b[0m\u001b[0;34m]\u001b[0m \u001b[0;34m=\u001b[0m \u001b[0;32mNone\u001b[0m\u001b[0;34m)\u001b[0m \u001b[0;34m->\u001b[0m \u001b[0;34m\"Model\"\u001b[0m\u001b[0;34m:\u001b[0m\u001b[0;34m\u001b[0m\u001b[0;34m\u001b[0m\u001b[0m\n",
            "\u001b[0;32m/usr/local/lib/python3.10/dist-packages/thinc/layers/residual.py\u001b[0m in \u001b[0;36mforward\u001b[0;34m(model, X, is_train)\u001b[0m\n\u001b[1;32m     39\u001b[0m             \u001b[0;32mreturn\u001b[0m \u001b[0md_output\u001b[0m \u001b[0;34m+\u001b[0m \u001b[0mdX\u001b[0m\u001b[0;34m\u001b[0m\u001b[0;34m\u001b[0m\u001b[0m\n\u001b[1;32m     40\u001b[0m \u001b[0;34m\u001b[0m\u001b[0m\n\u001b[0;32m---> 41\u001b[0;31m     \u001b[0mY\u001b[0m\u001b[0;34m,\u001b[0m \u001b[0mbackprop_layer\u001b[0m \u001b[0;34m=\u001b[0m \u001b[0mmodel\u001b[0m\u001b[0;34m.\u001b[0m\u001b[0mlayers\u001b[0m\u001b[0;34m[\u001b[0m\u001b[0;36m0\u001b[0m\u001b[0;34m]\u001b[0m\u001b[0;34m(\u001b[0m\u001b[0mX\u001b[0m\u001b[0;34m,\u001b[0m \u001b[0mis_train\u001b[0m\u001b[0;34m)\u001b[0m\u001b[0;34m\u001b[0m\u001b[0;34m\u001b[0m\u001b[0m\n\u001b[0m\u001b[1;32m     42\u001b[0m     \u001b[0;32mif\u001b[0m \u001b[0misinstance\u001b[0m\u001b[0;34m(\u001b[0m\u001b[0mX\u001b[0m\u001b[0;34m,\u001b[0m \u001b[0mlist\u001b[0m\u001b[0;34m)\u001b[0m\u001b[0;34m:\u001b[0m\u001b[0;34m\u001b[0m\u001b[0;34m\u001b[0m\u001b[0m\n\u001b[1;32m     43\u001b[0m         \u001b[0;32mreturn\u001b[0m \u001b[0;34m[\u001b[0m\u001b[0mX\u001b[0m\u001b[0;34m[\u001b[0m\u001b[0mi\u001b[0m\u001b[0;34m]\u001b[0m \u001b[0;34m+\u001b[0m \u001b[0mY\u001b[0m\u001b[0;34m[\u001b[0m\u001b[0mi\u001b[0m\u001b[0;34m]\u001b[0m \u001b[0;32mfor\u001b[0m \u001b[0mi\u001b[0m \u001b[0;32min\u001b[0m \u001b[0mrange\u001b[0m\u001b[0;34m(\u001b[0m\u001b[0mlen\u001b[0m\u001b[0;34m(\u001b[0m\u001b[0mX\u001b[0m\u001b[0;34m)\u001b[0m\u001b[0;34m)\u001b[0m\u001b[0;34m]\u001b[0m\u001b[0;34m,\u001b[0m \u001b[0mbackprop\u001b[0m\u001b[0;34m\u001b[0m\u001b[0;34m\u001b[0m\u001b[0m\n",
            "\u001b[0;32m/usr/local/lib/python3.10/dist-packages/thinc/model.py\u001b[0m in \u001b[0;36m__call__\u001b[0;34m(self, X, is_train)\u001b[0m\n\u001b[1;32m    308\u001b[0m         \"\"\"Call the model's `forward` function, returning the output and a\n\u001b[1;32m    309\u001b[0m         callback to compute the gradients via backpropagation.\"\"\"\n\u001b[0;32m--> 310\u001b[0;31m         \u001b[0;32mreturn\u001b[0m \u001b[0mself\u001b[0m\u001b[0;34m.\u001b[0m\u001b[0m_func\u001b[0m\u001b[0;34m(\u001b[0m\u001b[0mself\u001b[0m\u001b[0;34m,\u001b[0m \u001b[0mX\u001b[0m\u001b[0;34m,\u001b[0m \u001b[0mis_train\u001b[0m\u001b[0;34m=\u001b[0m\u001b[0mis_train\u001b[0m\u001b[0;34m)\u001b[0m\u001b[0;34m\u001b[0m\u001b[0;34m\u001b[0m\u001b[0m\n\u001b[0m\u001b[1;32m    311\u001b[0m \u001b[0;34m\u001b[0m\u001b[0m\n\u001b[1;32m    312\u001b[0m     \u001b[0;32mdef\u001b[0m \u001b[0minitialize\u001b[0m\u001b[0;34m(\u001b[0m\u001b[0mself\u001b[0m\u001b[0;34m,\u001b[0m \u001b[0mX\u001b[0m\u001b[0;34m:\u001b[0m \u001b[0mOptional\u001b[0m\u001b[0;34m[\u001b[0m\u001b[0mInT\u001b[0m\u001b[0;34m]\u001b[0m \u001b[0;34m=\u001b[0m \u001b[0;32mNone\u001b[0m\u001b[0;34m,\u001b[0m \u001b[0mY\u001b[0m\u001b[0;34m:\u001b[0m \u001b[0mOptional\u001b[0m\u001b[0;34m[\u001b[0m\u001b[0mOutT\u001b[0m\u001b[0;34m]\u001b[0m \u001b[0;34m=\u001b[0m \u001b[0;32mNone\u001b[0m\u001b[0;34m)\u001b[0m \u001b[0;34m->\u001b[0m \u001b[0;34m\"Model\"\u001b[0m\u001b[0;34m:\u001b[0m\u001b[0;34m\u001b[0m\u001b[0;34m\u001b[0m\u001b[0m\n",
            "\u001b[0;32m/usr/local/lib/python3.10/dist-packages/thinc/layers/chain.py\u001b[0m in \u001b[0;36mforward\u001b[0;34m(model, X, is_train)\u001b[0m\n\u001b[1;32m     52\u001b[0m     \u001b[0mcallbacks\u001b[0m \u001b[0;34m=\u001b[0m \u001b[0;34m[\u001b[0m\u001b[0;34m]\u001b[0m\u001b[0;34m\u001b[0m\u001b[0;34m\u001b[0m\u001b[0m\n\u001b[1;32m     53\u001b[0m     \u001b[0;32mfor\u001b[0m \u001b[0mlayer\u001b[0m \u001b[0;32min\u001b[0m \u001b[0mmodel\u001b[0m\u001b[0;34m.\u001b[0m\u001b[0mlayers\u001b[0m\u001b[0;34m:\u001b[0m\u001b[0;34m\u001b[0m\u001b[0;34m\u001b[0m\u001b[0m\n\u001b[0;32m---> 54\u001b[0;31m         \u001b[0mY\u001b[0m\u001b[0;34m,\u001b[0m \u001b[0minc_layer_grad\u001b[0m \u001b[0;34m=\u001b[0m \u001b[0mlayer\u001b[0m\u001b[0;34m(\u001b[0m\u001b[0mX\u001b[0m\u001b[0;34m,\u001b[0m \u001b[0mis_train\u001b[0m\u001b[0;34m=\u001b[0m\u001b[0mis_train\u001b[0m\u001b[0;34m)\u001b[0m\u001b[0;34m\u001b[0m\u001b[0;34m\u001b[0m\u001b[0m\n\u001b[0m\u001b[1;32m     55\u001b[0m         \u001b[0mcallbacks\u001b[0m\u001b[0;34m.\u001b[0m\u001b[0mappend\u001b[0m\u001b[0;34m(\u001b[0m\u001b[0minc_layer_grad\u001b[0m\u001b[0;34m)\u001b[0m\u001b[0;34m\u001b[0m\u001b[0;34m\u001b[0m\u001b[0m\n\u001b[1;32m     56\u001b[0m         \u001b[0mX\u001b[0m \u001b[0;34m=\u001b[0m \u001b[0mY\u001b[0m\u001b[0;34m\u001b[0m\u001b[0;34m\u001b[0m\u001b[0m\n",
            "\u001b[0;32m/usr/local/lib/python3.10/dist-packages/thinc/model.py\u001b[0m in \u001b[0;36m__call__\u001b[0;34m(self, X, is_train)\u001b[0m\n\u001b[1;32m    308\u001b[0m         \"\"\"Call the model's `forward` function, returning the output and a\n\u001b[1;32m    309\u001b[0m         callback to compute the gradients via backpropagation.\"\"\"\n\u001b[0;32m--> 310\u001b[0;31m         \u001b[0;32mreturn\u001b[0m \u001b[0mself\u001b[0m\u001b[0;34m.\u001b[0m\u001b[0m_func\u001b[0m\u001b[0;34m(\u001b[0m\u001b[0mself\u001b[0m\u001b[0;34m,\u001b[0m \u001b[0mX\u001b[0m\u001b[0;34m,\u001b[0m \u001b[0mis_train\u001b[0m\u001b[0;34m=\u001b[0m\u001b[0mis_train\u001b[0m\u001b[0;34m)\u001b[0m\u001b[0;34m\u001b[0m\u001b[0;34m\u001b[0m\u001b[0m\n\u001b[0m\u001b[1;32m    311\u001b[0m \u001b[0;34m\u001b[0m\u001b[0m\n\u001b[1;32m    312\u001b[0m     \u001b[0;32mdef\u001b[0m \u001b[0minitialize\u001b[0m\u001b[0;34m(\u001b[0m\u001b[0mself\u001b[0m\u001b[0;34m,\u001b[0m \u001b[0mX\u001b[0m\u001b[0;34m:\u001b[0m \u001b[0mOptional\u001b[0m\u001b[0;34m[\u001b[0m\u001b[0mInT\u001b[0m\u001b[0;34m]\u001b[0m \u001b[0;34m=\u001b[0m \u001b[0;32mNone\u001b[0m\u001b[0;34m,\u001b[0m \u001b[0mY\u001b[0m\u001b[0;34m:\u001b[0m \u001b[0mOptional\u001b[0m\u001b[0;34m[\u001b[0m\u001b[0mOutT\u001b[0m\u001b[0;34m]\u001b[0m \u001b[0;34m=\u001b[0m \u001b[0;32mNone\u001b[0m\u001b[0;34m)\u001b[0m \u001b[0;34m->\u001b[0m \u001b[0;34m\"Model\"\u001b[0m\u001b[0;34m:\u001b[0m\u001b[0;34m\u001b[0m\u001b[0;34m\u001b[0m\u001b[0m\n",
            "\u001b[0;32m/usr/local/lib/python3.10/dist-packages/thinc/layers/expand_window.py\u001b[0m in \u001b[0;36mforward\u001b[0;34m(model, X, is_train)\u001b[0m\n\u001b[1;32m     20\u001b[0m         \u001b[0;32mreturn\u001b[0m \u001b[0m_expand_window_ragged\u001b[0m\u001b[0;34m(\u001b[0m\u001b[0mmodel\u001b[0m\u001b[0;34m,\u001b[0m \u001b[0mX\u001b[0m\u001b[0;34m)\u001b[0m\u001b[0;34m\u001b[0m\u001b[0;34m\u001b[0m\u001b[0m\n\u001b[1;32m     21\u001b[0m     \u001b[0;32melse\u001b[0m\u001b[0;34m:\u001b[0m\u001b[0;34m\u001b[0m\u001b[0;34m\u001b[0m\u001b[0m\n\u001b[0;32m---> 22\u001b[0;31m         \u001b[0;32mreturn\u001b[0m \u001b[0m_expand_window_floats\u001b[0m\u001b[0;34m(\u001b[0m\u001b[0mmodel\u001b[0m\u001b[0;34m,\u001b[0m \u001b[0mX\u001b[0m\u001b[0;34m)\u001b[0m\u001b[0;34m\u001b[0m\u001b[0;34m\u001b[0m\u001b[0m\n\u001b[0m\u001b[1;32m     23\u001b[0m \u001b[0;34m\u001b[0m\u001b[0m\n\u001b[1;32m     24\u001b[0m \u001b[0;34m\u001b[0m\u001b[0m\n",
            "\u001b[0;32m/usr/local/lib/python3.10/dist-packages/thinc/layers/expand_window.py\u001b[0m in \u001b[0;36m_expand_window_floats\u001b[0;34m(model, X)\u001b[0m\n\u001b[1;32m     28\u001b[0m     \u001b[0mnW\u001b[0m \u001b[0;34m=\u001b[0m \u001b[0mmodel\u001b[0m\u001b[0;34m.\u001b[0m\u001b[0mattrs\u001b[0m\u001b[0;34m[\u001b[0m\u001b[0;34m\"window_size\"\u001b[0m\u001b[0;34m]\u001b[0m\u001b[0;34m\u001b[0m\u001b[0;34m\u001b[0m\u001b[0m\n\u001b[1;32m     29\u001b[0m     \u001b[0;32mif\u001b[0m \u001b[0mlen\u001b[0m\u001b[0;34m(\u001b[0m\u001b[0mX\u001b[0m\u001b[0;34m)\u001b[0m \u001b[0;34m>\u001b[0m \u001b[0;36m0\u001b[0m\u001b[0;34m:\u001b[0m\u001b[0;34m\u001b[0m\u001b[0;34m\u001b[0m\u001b[0m\n\u001b[0;32m---> 30\u001b[0;31m         \u001b[0mY\u001b[0m \u001b[0;34m=\u001b[0m \u001b[0mmodel\u001b[0m\u001b[0;34m.\u001b[0m\u001b[0mops\u001b[0m\u001b[0;34m.\u001b[0m\u001b[0mseq2col\u001b[0m\u001b[0;34m(\u001b[0m\u001b[0mX\u001b[0m\u001b[0;34m,\u001b[0m \u001b[0mnW\u001b[0m\u001b[0;34m)\u001b[0m\u001b[0;34m\u001b[0m\u001b[0;34m\u001b[0m\u001b[0m\n\u001b[0m\u001b[1;32m     31\u001b[0m     \u001b[0;32melse\u001b[0m\u001b[0;34m:\u001b[0m\u001b[0;34m\u001b[0m\u001b[0;34m\u001b[0m\u001b[0m\n\u001b[1;32m     32\u001b[0m         \u001b[0;32massert\u001b[0m \u001b[0mlen\u001b[0m\u001b[0;34m(\u001b[0m\u001b[0mX\u001b[0m\u001b[0;34m)\u001b[0m \u001b[0;34m==\u001b[0m \u001b[0;36m0\u001b[0m\u001b[0;34m\u001b[0m\u001b[0;34m\u001b[0m\u001b[0m\n",
            "\u001b[0;31mKeyboardInterrupt\u001b[0m: "
          ]
        }
      ]
    },
    {
      "cell_type": "code",
      "source": [
        "# Distribution of words in the data\n",
        "from wordcloud import WordCloud\n",
        "for i in text:\n",
        "  text1 = \" \".join(text)\n",
        "wordcloud = WordCloud(width = 800, height = 800,\n",
        "                background_color ='white').generate(text1)\n",
        "plt.figure(figsize = (8, 8), facecolor = None)\n",
        "plt.imshow(wordcloud)\n",
        "plt.axis(\"off\")"
      ],
      "metadata": {
        "id": "KrmvhmR_-FjO"
      },
      "execution_count": null,
      "outputs": []
    },
    {
      "cell_type": "code",
      "source": [
        "# Bigram generation\n",
        "from nltk.util import ngrams\n",
        "def generate_word_ngrams(words, n):\n",
        "    word_ngrams = list(ngrams(words, n))\n",
        "    return word_ngrams\n",
        "bigram = generate_word_ngrams(text, 2)\n",
        "print(f\"{2}-grams for the list of words {text[:20]}:\")\n",
        "print(bigram[:20])\n"
      ],
      "metadata": {
        "colab": {
          "base_uri": "https://localhost:8080/"
        },
        "id": "hunmUoUucR5C",
        "outputId": "347e6710-30bf-454c-81e0-30c22f7e007e"
      },
      "execution_count": null,
      "outputs": [
        {
          "output_type": "stream",
          "name": "stdout",
          "text": [
            "2-grams for the list of words ['government', 'india', 'interim', 'budget', 'speech', 'nirmala', 'sitharaman', 'minister', 'finance', 'february', 'content', '–', 'page', 'introduction', 'inclusive', 'development', 'growth', 'social', 'justice', 'exemplary']:\n",
            "[('government', 'india'), ('india', 'interim'), ('interim', 'budget'), ('budget', 'speech'), ('speech', 'nirmala'), ('nirmala', 'sitharaman'), ('sitharaman', 'minister'), ('minister', 'finance'), ('finance', 'february'), ('february', 'content'), ('content', '–'), ('–', 'page'), ('page', 'introduction'), ('introduction', 'inclusive'), ('inclusive', 'development'), ('development', 'growth'), ('growth', 'social'), ('social', 'justice'), ('justice', 'exemplary'), ('exemplary', 'track')]\n"
          ]
        }
      ]
    },
    {
      "cell_type": "markdown",
      "source": [
        "CONVERT PREPROCESSED TEXT TO CORPUS"
      ],
      "metadata": {
        "id": "TqpCFN8refzu"
      }
    },
    {
      "cell_type": "code",
      "source": [
        "id2word=corpora.Dictionary(bigram)\n",
        "print(id2word)\n",
        "texts=bigram\n",
        "corpus=[id2word.doc2bow(word) for word in bigram]"
      ],
      "metadata": {
        "id": "8Y1gC_7WRvdI",
        "colab": {
          "base_uri": "https://localhost:8080/"
        },
        "outputId": "98bb8ca0-70d5-4429-b582-0aff5e5c24f7"
      },
      "execution_count": null,
      "outputs": [
        {
          "output_type": "stream",
          "name": "stdout",
          "text": [
            "Dictionary<4520 unique tokens: ['government', 'india', 'interim', 'budget', 'speech']...>\n"
          ]
        }
      ]
    },
    {
      "cell_type": "code",
      "source": [
        "# Tf-idf vectorization\n",
        "from gensim.models import TfidfModel\n",
        "tfidf = TfidfModel(corpus)\n",
        "corpus_tfidf = tfidf[corpus]\n"
      ],
      "metadata": {
        "id": "mdbAeuQ95XZS"
      },
      "execution_count": null,
      "outputs": []
    },
    {
      "cell_type": "code",
      "source": [
        "# Model to perfrom topic modelling\n",
        "lda_model = gensim.models.LdaModel(corpus=corpus_tfidf,\n",
        "                                       id2word=id2word,\n",
        "                                       num_topics=12)\n",
        "\n",
        "\n",
        "print(lda_model.print_topics())"
      ],
      "metadata": {
        "colab": {
          "base_uri": "https://localhost:8080/"
        },
        "id": "E3iV3-T6SjCX",
        "outputId": "a0f52f80-d332-401c-a8a9-b30bb3a9103e"
      },
      "execution_count": null,
      "outputs": [
        {
          "output_type": "stream",
          "name": "stdout",
          "text": [
            "[(0, '0.102*\"income\" + 0.096*\"infrastructure\" + 0.073*\"fund\" + 0.052*\"provision\" + 0.043*\"section\" + 0.036*\"manufacture\" + 0.031*\"department\" + 0.023*\"development\" + 0.023*\"private\" + 0.023*\"use\"'), (1, '0.092*\"custom\" + 0.056*\"include\" + 0.043*\"agriculture\" + 0.040*\"c\" + 0.026*\"resource\" + 0.025*\"school\" + 0.025*\"urban\" + 0.024*\"basic\" + 0.024*\"power\" + 0.023*\"d\"'), (2, '0.089*\"duty\" + 0.064*\"rate\" + 0.040*\"b\" + 0.034*\"part\" + 0.030*\"item\" + 0.029*\"e\" + 0.029*\"customs\" + 0.028*\"certain\" + 0.027*\"s\" + 0.027*\"company\"'), (3, '0.048*\"set\" + 0.047*\"development\" + 0.042*\"condition\" + 0.036*\"take\" + 0.032*\"ensure\" + 0.032*\"create\" + 0.030*\"enable\" + 0.024*\"\"\" + 0.024*\"economy\" + 0.023*\"gst\"'), (4, '0.053*\"reduce\" + 0.053*\"increase\" + 0.042*\"return\" + 0.040*\"date\" + 0.040*\"compliance\" + 0.037*\"’s\" + 0.034*\"health\" + 0.030*\"–\" + 0.024*\"burden\" + 0.022*\"institution\"'), (5, '0.102*\"provide\" + 0.074*\"\\uf0b7\" + 0.050*\"capital\" + 0.047*\"india\" + 0.034*\"case\" + 0.031*\"value\" + 0.028*\"steel\" + 0.027*\"non\" + 0.025*\"relief\" + 0.023*\"measure\"'), (6, '0.060*\"change\" + 0.053*\"investment\" + 0.045*\"product\" + 0.043*\"foreign\" + 0.042*\"export\" + 0.041*\"high\" + 0.038*\"domestic\" + 0.026*\"help\" + 0.025*\"house\" + 0.024*\"indian\"'), (7, '0.059*\"government\" + 0.040*\"cess\" + 0.038*\"national\" + 0.033*\"st\" + 0.032*\"central\" + 0.031*\"asset\" + 0.030*\"\\'\" + 0.030*\"employee\" + 0.029*\"education\" + 0.027*\"incentive\"'), (8, '0.108*\"tax\" + 0.063*\"shall\" + 0.060*\"exemption\" + 0.057*\"sector\" + 0.035*\"nil\" + 0.032*\"benefit\" + 0.024*\"additional\" + 0.023*\"limit\" + 0.022*\"period\" + 0.022*\"input\"'), (9, '0.125*\"propose\" + 0.070*\"order\" + 0.056*\"act\" + 0.042*\"budget\" + 0.038*\"allow\" + 0.037*\"public\" + 0.035*\"state\" + 0.025*\"digital\" + 0.025*\"start\" + 0.022*\"payment\"'), (10, '0.065*\"new\" + 0.055*\"scheme\" + 0.030*\"launch\" + 0.030*\"support\" + 0.027*\"up\" + 0.026*\"deduction\" + 0.025*\"taxation\" + 0.024*\"industry\" + 0.024*\"carry\" + 0.022*\"fiscal\"'), (11, '0.098*\"crore\" + 0.075*\"year\" + 0.041*\"lakh\" + 0.038*\"good\" + 0.036*\"project\" + 0.031*\"financial\" + 0.030*\"amendment\" + 0.029*\"import\" + 0.028*\"time\" + 0.028*\"specify\"')]\n"
          ]
        }
      ]
    },
    {
      "cell_type": "markdown",
      "source": [
        "DISTRIBUTION OF WORDS OVER TOPICS"
      ],
      "metadata": {
        "id": "UTEnx8f3enZ3"
      }
    },
    {
      "cell_type": "code",
      "source": [
        "# Topics and the words associated in each topic\n",
        "pyLDAvis.enable_notebook()\n",
        "vis=pyLDAvis.gensim_models.prepare(lda_model,corpus_tfidf,id2word,mds=\"mmds\",R=50)\n",
        "vis"
      ],
      "metadata": {
        "colab": {
          "base_uri": "https://localhost:8080/",
          "height": 862
        },
        "id": "weoQIHOXTzCM",
        "outputId": "486d8ba9-8dd2-412c-948b-82313ab3acf2"
      },
      "execution_count": null,
      "outputs": [
        {
          "output_type": "execute_result",
          "data": {
            "text/plain": [
              "PreparedData(topic_coordinates=              x         y  topics  cluster      Freq\n",
              "topic                                               \n",
              "11     0.400758  0.154287       1        1  9.783509\n",
              "8      0.338768 -0.253244       2        1  9.245076\n",
              "9     -0.321450 -0.262365       3        1  8.740817\n",
              "2     -0.065723 -0.399534       4        1  8.731958\n",
              "5     -0.078426  0.046795       5        1  8.591644\n",
              "7     -0.381262  0.142433       6        1  8.225970\n",
              "4      0.249872 -0.013040       7        1  8.132344\n",
              "6      0.105558 -0.251709       8        1  7.866281\n",
              "1      0.167676  0.348075       9        1  7.719645\n",
              "10     0.008540  0.282335      10        1  7.688271\n",
              "3     -0.196229  0.292436      11        1  7.685051\n",
              "0     -0.228083 -0.086469      12        1  7.589434, topic_info=             Term        Freq       Total Category  logprob  loglift\n",
              "1120      propose  459.000000  459.000000  Default  50.0000  50.0000\n",
              "549           tax  373.000000  373.000000  Default  49.0000  49.0000\n",
              "191         crore  351.000000  351.000000  Default  48.0000  48.0000\n",
              "325       provide  318.000000  318.000000  Default  47.0000  47.0000\n",
              "204        income  297.000000  297.000000  Default  46.0000  46.0000\n",
              "...           ...         ...         ...      ...      ...      ...\n",
              "960       railway   10.295120   18.157641  Topic12  -5.5854   2.0110\n",
              "15    development   63.680598  200.459549  Topic12  -3.7632   1.4317\n",
              "2493         cgst    5.572529   19.069804  Topic12  -6.1992   1.3482\n",
              "53           year    7.443663  274.816495  Topic12  -5.9097  -1.0303\n",
              "518    investment    5.703459  156.776266  Topic12  -6.1760  -0.7353\n",
              "\n",
              "[682 rows x 6 columns], token_table=      Topic      Freq Term\n",
              "term                      \n",
              "612      11  0.971639    \"\n",
              "30        3  0.010090    '\n",
              "30        4  0.010090    '\n",
              "30        5  0.010090    '\n",
              "30        6  0.908065    '\n",
              "...     ...       ...  ...\n",
              "11        7  0.980988    –\n",
              "819       8  0.971187    ’\n",
              "224       5  0.017682   ’s\n",
              "224       7  0.963644   ’s\n",
              "124       5  0.993137    \n",
              "\n",
              "[756 rows x 3 columns], R=50, lambda_step=0.01, plot_opts={'xlab': 'PC1', 'ylab': 'PC2'}, topic_order=[12, 9, 10, 3, 6, 8, 5, 7, 2, 11, 4, 1])"
            ],
            "text/html": [
              "\n",
              "<link rel=\"stylesheet\" type=\"text/css\" href=\"https://cdn.jsdelivr.net/gh/bmabey/pyLDAvis@3.4.0/pyLDAvis/js/ldavis.v1.0.0.css\">\n",
              "\n",
              "\n",
              "<div id=\"ldavis_el5241404821988597607334866183\" style=\"background-color:white;\"></div>\n",
              "<script type=\"text/javascript\">\n",
              "\n",
              "var ldavis_el5241404821988597607334866183_data = {\"mdsDat\": {\"x\": [0.4007580224088495, 0.33876808991411167, -0.32145006248825503, -0.06572344408762604, -0.07842560878713556, -0.38126185009120084, 0.24987220837723484, 0.10555755495681969, 0.16767613261387096, 0.008540319160440318, -0.19622866799359573, -0.22808269398351402], \"y\": [0.1542866314423771, -0.25324421514367124, -0.26236488253950674, -0.39953423469310234, 0.04679513320818031, 0.14243299378028637, -0.013040104963578398, -0.2517088220011825, 0.3480753098931866, 0.2823354011568898, 0.29243606467581496, -0.086469274815694], \"topics\": [1, 2, 3, 4, 5, 6, 7, 8, 9, 10, 11, 12], \"cluster\": [1, 1, 1, 1, 1, 1, 1, 1, 1, 1, 1, 1], \"Freq\": [9.78350861627998, 9.245075590951691, 8.740817496417797, 8.731957594884337, 8.591644021619965, 8.225970366543578, 8.132344310731037, 7.866280696359031, 7.719645099566607, 7.688270994827991, 7.685051304064499, 7.589433907753483]}, \"tinfo\": {\"Term\": [\"propose\", \"tax\", \"crore\", \"provide\", \"income\", \"duty\", \"infrastructure\", \"custom\", \"year\", \"\\uf0b7\", \"order\", \"fund\", \"shall\", \"rate\", \"exemption\", \"new\", \"sector\", \"change\", \"act\", \"government\", \"include\", \"scheme\", \"reduce\", \"increase\", \"investment\", \"capital\", \"provision\", \"development\", \"india\", \"set\", \"product\", \"return\", \"foreign\", \"budget\", \"agriculture\", \"good\", \"b\", \"export\", \"section\", \"lakh\", \"condition\", \"cess\", \"date\", \"compliance\", \"high\", \"project\", \"allow\", \"c\", \"public\", \"nil\", \"good\", \"project\", \"crore\", \"amendment\", \"import\", \"specify\", \"bank\", \"add\", \"time\", \"transaction\", \"affordable\", \"financial\", \"strategic\", \"relate\", \"th\", \"speech\", \"housing\", \"come\", \"account\", \"solar\", \"service\", \"assessment\", \"activity\", \"year\", \"loss\", \"bond\", \"result\", \"till\", \"give\", \"exceed\", \"outlay\", \"construction\", \"debt\", \"fy\", \"current\", \"country\", \"indirect\", \"information\", \"list\", \"quality\", \"grow\", \"face\", \"ration\", \"inclusion\", \"people\", \"assistance\", \"allocation\", \"lakh\", \"corpus\", \"reduction\", \"taxis\", \"shall\", \"exemption\", \"sector\", \"nil\", \"benefit\", \"additional\", \"limit\", \"period\", \"input\", \"specific\", \"tariff\", \"attract\", \"welfare\", \"proposal\", \"tax\", \"requirement\", \"concessional\", \"initiative\", \"cover\", \"structure\", \"need\", \"upto\", \"electronic\", \"management\", \"chemical\", \"like\", \"past\", \"material\", \"deficit\", \"cooperative\", \"cent\", \"meet\", \"double\", \"g\", \"taxable\", \"family\", \"boost\", \"fertilizer\", \"audit\", \"withdraw\", \"building\", \"expect\", \"credit\", \"regime\", \"society\", \"mobile\", \"claim\", \"drive\", \"distribute\", \"constitute\", \"sustainable\", \"income\", \"lakh\", \"act\", \"order\", \"allow\", \"state\", \"digital\", \"public\", \"payment\", \"introduce\", \"t\", \"end\", \"start\", \"farmer\", \"issue\", \"total\", \"enhance\", \"finance\", \"borrowing\", \"receipt\", \"agricultural\", \"facilitate\", \"remove\", \"remain\", \"commit\", \"union\", \"relevant\", \"recommendation\", \"small\", \"budget\", \"transparency\", \"amend\", \"step\", \"regulatory\", \"physical\", \"inland\", \"recognize\", \"university\", \"incentivise\", \"propose\", \"clarify\", \"micro\", \"stakeholder\", \"transform\", \"estimate\", \"interim\", \"robust\", \"datum\", \"funding\", \"resolve\", \"atmanirbharta\", \"rupee\", \"woman\", \"cgst\", \"disinvestment\", \"lakh\", \"duty\", \"rate\", \"b\", \"e\", \"customs\", \"part\", \"certain\", \"s\", \"company\", \"expenditure\", \"promote\", \"pay\", \"extend\", \"annexure\", \"gold\", \"bring\", \"ease\", \"level\", \"schedule\", \"eligible\", \"pradhan\", \"number\", \"fuel\", \"ii\", \"special\", \"iii\", \"mantri\", \"base\", \"oil\", \"item\", \"bharat\", \"mission\", \"legislative\", \"align\", \"implement\", \"silver\", \"governance\", \"technology\", \"caste\", \"respect\", \"large\", \"charge\", \"integrate\", \"serve\", \"vehicle\", \"confidence\", \"refinance\", \"today\", \"old\", \"safety\", \"economic\", \"target\", \"strategy\", \"capital\", \"propose\", \"\\uf0b7\", \"provide\", \"case\", \"value\", \"non\", \"steel\", \"india\", \"relief\", \"measure\", \"loan\", \"msme\", \"policy\", \"deposit\", \"raise\", \"direct\", \"work\", \"gain\", \"appeal\", \"scrap\", \"distribution\", \"access\", \"post\", \"far\", \"dividend\", \"secondary\", \"resident\", \"professional\", \"nssf\", \"prime\", \"share\", \"capital\", \"district\", \"addition\", \"pm\", \"independence\", \"network\", \"minister\", \"aspirational\", \"individual\", \"leave\", \"aim\", \"way\", \"air\", \"go\", \"guide\", \"show\", \"living\", \"spirit\", \"principle\", \"disease\", \"thousand\", \"defence\", \"vulnerable\", \"propose\", \"cess\", \"st\", \"central\", \"asset\", \"employee\", \"effect\", \"incentive\", \"education\", \"person\", \"area\", \"ministry\", \"commission\", \"trust\", \"citizen\", \"national\", \"authority\", \"contribution\", \"minimum\", \"rural\", \"plan\", \"senior\", \"government\", \"march\", \"ifsc\", \"yojana\", \"well\", \"vi\", \"alternate\", \"potential\", \"skill\", \"timely\", \"cps\", \"administration\", \"mention\", \"gift\", \"train\", \"highway\", \"reach\", \"contribute\", \"maximum\", \"'\", \"produce\", \"lay\", \"jal\", \"hope\", \"awa\", \"life\", \"adequate\", \"al\", \"word\", \"return\", \"date\", \"compliance\", \"health\", \"increase\", \"reduce\", \"\\u2013\", \"burden\", \"institution\", \"revise\", \"cost\", \"unit\", \"energy\", \"filing\", \"speaker\", \"reform\", \"file\", \"\\u2019s\", \"follow\", \"present\", \"long\", \"arise\", \"renewable\", \"security\", \"child\", \"achieve\", \"process\", \"low\", \"sir\", \"term\", \"effort\", \"youth\", \"transition\", \"gdp\", \"holistic\", \"banking\", \"planning\", \"model\", \"multi\", \"despite\", \"generate\", \"clean\", \"generation\", \"location\", \"right\", \"challenge\", \"east\", \"objective\", \"procurement\", \"carbon\", \"rise\", \"empower\", \"honourable\", \"change\", \"product\", \"foreign\", \"export\", \"domestic\", \"high\", \"house\", \"\\u2019\", \"continue\", \"business\", \"basis\", \"surcharge\", \"world\", \"help\", \"major\", \"encourage\", \"indian\", \"opportunity\", \"investment\", \"focus\", \"detail\", \"global\", \"close\", \"growth\", \"nature\", \"deep\", \"job\", \"rationalization\", \"green\", \"manage\", \"not\", \"scale\", \"land\", \"record\", \"platform\", \"region\", \"action\", \"want\", \"august\", \"necessary\", \"eastern\", \"demand\", \"poshan\", \"priority\", \"sustain\", \"y\", \"modern\", \"strong\", \"vishwas\", \"local\", \"significantly\", \"economic\", \"custom\", \"include\", \"c\", \"school\", \"urban\", \"basic\", \"agriculture\", \"power\", \"resource\", \"d\", \"require\", \"roll\", \"centre\", \"insurance\", \"enterprise\", \"capacity\", \"improve\", \"announce\", \"link\", \"market\", \"food\", \"r\", \"make\", \"system\", \"nation\", \"employment\", \"application\", \"receive\", \"real\", \"transport\", \"strengthen\", \"self\", \"international\", \"efficiency\", \"mandate\", \"urea\", \"approach\", \"processing\", \"early\", \"human\", \"creation\", \"course\", \"size\", \"delivery\", \"coverage\", \"budgetary\", \"tribal\", \"context\", \"expand\", \"eliminate\", \"recently\", \"husbandry\", \"scheme\", \"launch\", \"new\", \"up\", \"taxation\", \"industry\", \"carry\", \"fiscal\", \"deduction\", \"exist\", \"supply\", \"forward\", \"manufacturing\", \"city\", \"month\", \"support\", \"establish\", \"available\", \"undertake\", \"phase\", \"training\", \"lead\", \"mineral\", \"primary\", \"financing\", \"gas\", \"entity\", \"framework\", \"social\", \"build\", \"important\", \"natural\", \"emerge\", \"impact\", \"accelerate\", \"implementation\", \"responsibility\", \"worker\", \"brand\", \"separate\", \"upgradation\", \"great\", \"bio\", \"migrant\", \"saving\", \"position\", \"effective\", \"mark\", \"chain\", \"productivity\", \"condition\", \"set\", \"create\", \"ensure\", \"take\", \"enable\", \"gst\", \"sale\", \"committee\", \"pandemic\", \"programme\", \"\\\"\", \"purpose\", \"covid\", \"resolution\", \"trade\", \"initiate\", \"facilitation\", \"dispute\", \"atmanirbhar\", \"class\", \"corridor\", \"say\", \"promotion\", \"agency\", \"progress\", \"economy\", \"fast\", \"relax\", \"price\", \"earn\", \"vision\", \"get\", \"taxpayer\", \"online\", \"live\", \"path\", \"package\", \"innovation\", \"amrit\", \"council\", \"joint\", \"l\", \"outcome\", \"risk\", \"kaal\", \"comprehensive\", \"fintech\", \"vaccination\", \"synergy\", \"development\", \"sitharaman\", \"purchase\", \"fund\", \"section\", \"provision\", \"manufacture\", \"department\", \"infrastructure\", \"private\", \"use\", \"f\", \"transfer\", \"o\", \"develop\", \"form\", \"production\", \"efficient\", \"income\", \"day\", \"free\", \"partner\", \"transparent\", \"fishery\", \"research\", \"age\", \"personal\", \"household\", \"poor\", \"n\", \"pension\", \"performance\", \"capability\", \"inclusive\", \"w\", \"overcome\", \"animal\", \"farming\", \"partnership\", \"realize\", \"fulfil\", \"facility\", \"augment\", \"solution\", \"driver\", \"orient\", \"storage\", \"crowd\", \"electric\", \"importance\", \"kalyan\", \"agri\", \"obtain\", \"railway\", \"development\", \"cgst\", \"year\", \"investment\"], \"Freq\": [459.0, 373.0, 351.0, 318.0, 297.0, 283.0, 268.0, 257.0, 274.0, 232.0, 223.0, 200.0, 210.0, 203.0, 200.0, 184.0, 191.0, 171.0, 177.0, 181.0, 158.0, 154.0, 157.0, 156.0, 156.0, 167.0, 143.0, 200.0, 149.0, 136.0, 128.0, 125.0, 123.0, 144.0, 123.0, 134.0, 126.0, 120.0, 118.0, 167.0, 116.0, 120.0, 118.0, 118.0, 117.0, 128.0, 120.0, 112.0, 119.0, 119.0, 133.29070126861475, 126.64425144234116, 347.746539712561, 107.27838949804074, 101.68313914056374, 98.47987418786487, 82.66417881836118, 74.5009064751372, 98.64892754306271, 60.030134273486915, 56.256767991971685, 108.16324984656181, 54.71542842341114, 52.67647472712703, 52.6002949807091, 50.96149329700117, 58.266527192968816, 50.18588419807768, 48.50494599358547, 51.257753356361576, 55.41901147766068, 38.07392049084441, 40.30830568948401, 263.84395168320077, 39.96892091701324, 34.00504847011102, 36.768248322183126, 30.64076745979979, 34.25529500079447, 28.311324747339615, 26.078178083082037, 27.35009195489703, 23.579311443301727, 23.94798953029209, 20.575139245526486, 57.91890089649849, 15.94100145042573, 15.307878156013285, 15.018000172092183, 16.44850079538457, 13.920370486854452, 13.534290333001726, 12.065965824934814, 11.031380339620517, 45.377294223704226, 10.614396941250284, 8.822818253448736, 144.66231787309368, 8.781302646842677, 8.398204363333914, 9.78150809763886, 209.12036538421498, 199.02873370377006, 189.56260357277182, 118.11201902059342, 105.3582767507789, 81.20102790984998, 77.2860901844638, 74.40461578584768, 72.32345790751721, 63.66510230524682, 59.87681376495901, 50.61756555094806, 55.75401051212324, 48.670552218454176, 362.5531388640444, 45.22540054571636, 42.11587792902496, 42.715584605366324, 47.42737131288931, 38.59355952536467, 52.163994184586016, 31.76690137964588, 31.543120661392905, 33.3737847044208, 29.380254635480043, 28.474698021108285, 25.4762611328329, 26.917010782906303, 25.446198759905254, 23.84809011200785, 64.7107113536118, 23.89472600995654, 24.542752550259625, 26.556417942341376, 21.60056510712562, 20.075386817241753, 19.45947235711138, 18.282121760621568, 18.196015380180746, 16.89402017181325, 15.298031266715983, 16.557907092264006, 33.542246672241994, 17.57962623462156, 15.89021612444276, 13.100936530521608, 12.778064061744882, 11.05479020434377, 10.990900658317015, 10.61319112809283, 11.337789875273124, 15.882261641732407, 14.507009242761045, 175.95180716725383, 221.04367266956453, 118.81295640708971, 109.79068688784612, 80.04855717112117, 117.84795120331769, 70.81231422531934, 67.81047081810647, 67.51054663102587, 61.42216273764945, 79.11780160615484, 70.12685058288737, 51.4223982855488, 47.30662348692321, 56.43416400029971, 58.006839844940735, 39.2596446575855, 34.74999018395091, 34.86776267882677, 44.69277098282981, 29.85967560718526, 25.89450445745824, 23.378655420170816, 21.540599318703652, 21.74140908875923, 20.278365637521595, 58.51079040761176, 133.90684697878888, 16.83954945845905, 30.139370200078673, 22.915667284251516, 10.78018932348712, 9.809022392506858, 9.877371581479391, 9.853414786093776, 9.035956278796416, 33.22004251475412, 395.7463303534478, 8.692527722575514, 9.084417987390944, 7.983162464404574, 8.029790737273382, 45.611228108152815, 5.673510570006436, 5.871607340768835, 4.731358200822894, 4.784069845801706, 4.6842638438721265, 6.090882059912015, 3.6682093739424215, 16.946637702287987, 12.240448041890941, 7.114536974370037, 6.525369172612669, 281.67549355244245, 201.5545287708667, 125.07001227463175, 92.15746760693985, 91.24660627637462, 108.90604556802184, 89.57346775219537, 86.65191084488933, 85.71350235636541, 76.51720265441904, 72.51903107975893, 69.10413015081645, 67.76793129358816, 64.29885330734975, 56.2347035783967, 52.31020668660158, 58.531689682567425, 48.883898823520376, 40.11508867807973, 35.92849101506434, 35.31288406300864, 64.1291839818308, 33.545247321298284, 35.84995662546447, 31.704541522607613, 31.594076537213784, 33.18384742444161, 29.979469108850942, 28.000836424820637, 95.46136260309636, 31.251289346550976, 37.386294258060566, 23.086954102620606, 22.677643612415594, 22.10185803224363, 22.399310009533743, 24.39437250063472, 27.517053060354066, 10.875230626122214, 10.765543987587463, 18.031306814535043, 9.484784153242504, 9.950733158374288, 8.307633384082232, 21.19554771560798, 7.590572336615993, 6.930917126192557, 6.795942667040757, 6.764799972883179, 6.623751615295662, 26.915449001933084, 10.087669286805482, 7.266891025652664, 10.296017085845676, 8.63332193326288, 231.089328711224, 316.46989158301125, 105.24562413852078, 96.57797419098398, 84.45393019028295, 87.81463406468437, 147.34092556447942, 76.8788433968681, 70.3821745044268, 64.50889183580956, 63.901091424657025, 68.24584787320005, 50.74846478294997, 52.45711301182716, 63.056865690329104, 51.803203125176466, 47.463986177610785, 38.6969665498787, 38.070308693884726, 31.98792504999396, 30.352450302434306, 28.16705786672827, 27.10662381827494, 31.63539872878883, 22.398186836637137, 22.00807868948018, 20.705248806093106, 20.024319750315023, 25.440255143593557, 19.760581649997, 155.61418039856767, 18.62586766637557, 46.88525440631277, 25.23358402775657, 12.055320199476668, 11.948332620678851, 30.45183733876842, 13.255448747185083, 10.411270796161341, 10.525383793122323, 10.004054558322764, 13.40511073233714, 9.147197170787088, 7.887471258190359, 6.595577188612621, 6.206861871596966, 5.978315150692827, 5.064850354768949, 4.46440496903288, 4.4406266972462225, 5.339127247220514, 13.292232190750616, 6.100805015744037, 45.57389976606917, 118.89576244640715, 99.3999886173434, 94.2800794304169, 93.1702120433968, 89.69935060888076, 79.64558103421341, 79.93261398422537, 85.64064742095346, 68.46366489432803, 58.76664394749062, 57.36037137727345, 54.77458775110201, 53.767116996859876, 53.299026017224804, 113.30228960467602, 48.50561064863819, 51.12526060678001, 52.36265572702778, 47.75150592165433, 46.519899207835905, 41.53313721664673, 174.99007362853152, 37.97928000439464, 62.82708642691919, 35.97764906112542, 34.842971844060294, 28.39086507177758, 27.461310699390424, 25.867324816942606, 25.307718854702266, 23.949994120035374, 23.130264373748428, 19.628709152508325, 19.808700896736568, 17.870152505257444, 17.127297781582683, 18.269144036945594, 19.276308753431536, 17.216933609277753, 18.897688811930507, 90.34453359038449, 13.803274924231465, 14.175673021214054, 13.173385521820018, 11.722467443640591, 17.697759083057395, 10.78683801407507, 10.193502813700835, 9.520348535195566, 8.557953957432323, 123.961876736842, 116.86036116704243, 116.68694404279665, 99.7503315671641, 154.51982714107572, 154.76146551496956, 89.1754738334532, 70.80339492388357, 64.6661055073009, 62.95279820457331, 59.003758214813104, 57.086767384981755, 57.66296259191434, 39.47696154901996, 42.960631636902725, 55.39029361262967, 36.518890245199096, 108.91031300168481, 49.44914165781001, 34.05971078736551, 32.602813637382724, 29.003833318817772, 27.947436194060426, 35.2399088353383, 26.00486376463598, 28.298840247723867, 29.877624424088577, 24.776399374200704, 22.175961187414174, 24.01844420518009, 25.01648253578917, 23.618015369250312, 17.29930140168419, 26.32904065075648, 15.180456062037768, 15.192530861802894, 13.994127520488089, 16.53055420924538, 13.557802851242943, 13.188394750900233, 13.156779858499325, 12.140742957310644, 16.775140093784806, 10.870154354701558, 10.693253746555284, 12.86919974645154, 15.614406842077392, 10.746180934346619, 10.058043982539346, 9.508276432598368, 18.39705676917446, 11.734546419406891, 11.417798546996764, 169.5469977283225, 127.10985586079654, 122.06667139315607, 118.70457666507394, 107.36629722916076, 115.85273613433766, 71.42450643065345, 50.10873665414889, 50.361231173811326, 47.77385624636669, 44.51860608814508, 43.1468364369103, 48.324213573870395, 74.59936493567132, 37.761633872431624, 52.750362837580404, 69.40609697973439, 49.55383984935747, 149.3868665741489, 32.17595803268098, 39.631813763934865, 38.447547831217136, 23.986174233103107, 41.86541668543809, 23.83987011125331, 21.948829547138242, 22.9807462256204, 19.512169768044394, 20.66720718772408, 18.599701727341202, 17.572752254024213, 18.61705052895915, 16.76506694941929, 16.76799483281577, 12.063589383412069, 13.443505727842297, 13.328505195141927, 12.702225507271695, 9.285594150578559, 11.615546418125568, 9.067625083613107, 9.022154829345835, 8.629019278446467, 19.586660630468092, 9.3838543676043, 8.029356712362418, 7.314908139634188, 7.093269617720003, 6.465695490220618, 5.988257820414278, 9.555056754320955, 11.454585664239476, 255.83039408959306, 156.46764746638513, 111.0157265821629, 69.5676510804194, 68.59636755376961, 68.35156355909986, 121.37915806824029, 67.5803951083154, 72.31975969124001, 65.24223469700082, 49.93928196653964, 49.603052043763284, 52.25615055379663, 53.489818384921534, 44.41164685735464, 39.529173250451265, 43.364378653419315, 32.681341085712084, 29.945435261900137, 35.02102716850148, 29.748792583122324, 27.77011363975245, 34.32462441728247, 27.124416722949842, 27.63029507588805, 30.253360989853864, 27.513234228264878, 27.372820470588323, 23.342113393574063, 21.58332477550092, 35.36434483593177, 20.014175562289193, 19.68473318816108, 23.708448687207213, 20.28321746043172, 17.51197427823516, 23.1035680307806, 27.23545025856258, 16.6130132975114, 11.461426317226051, 11.731190765061939, 12.91371351393526, 10.300049193056882, 10.085904827237112, 9.172913257009109, 8.882796559626977, 10.02152967816314, 9.005405835156266, 10.023432219082347, 8.703874542033796, 11.745170022348763, 10.676588551784027, 152.46612856247114, 83.06082598675614, 180.9520706315908, 73.94984058875069, 70.75947467547094, 66.6267935090428, 66.55319624264044, 61.92989424458468, 71.34105667554886, 58.52798278405302, 60.78359197041873, 50.63967183761697, 49.02821992981859, 47.00249865950498, 45.95605694186935, 82.02972393571802, 44.845569657079565, 42.88327788226129, 42.65893202260225, 37.27982917183969, 36.198074640885935, 37.921985511784015, 31.25025301373864, 29.025411170804922, 27.901124398564697, 28.814378153756582, 24.964706847004244, 24.49998432187477, 33.11076871510419, 26.368431298713624, 23.984448827574, 20.275179734160986, 20.232019772801966, 18.142159748024454, 14.813569874770517, 21.458227576532288, 13.00118800742127, 42.17236483894825, 11.889419397122582, 10.144195164792304, 9.768110596710617, 10.069057719242883, 9.27790198950176, 9.399953421297653, 9.848078898282246, 9.047772045297982, 12.19326826893865, 7.688066949026322, 15.025251320182452, 8.126173495945835, 115.44033566909378, 134.2894499876151, 89.2905589326028, 90.23941911059919, 100.44343076723747, 82.96010834946702, 62.82374683389818, 53.407842115314295, 52.147380225050796, 52.23269370411606, 54.26298476899477, 67.0337388124711, 48.82154659087284, 40.349177073337735, 38.0208528963441, 35.47510251046618, 30.671683509066025, 30.28196919763898, 30.01673463158227, 32.7616567499765, 29.37690423821165, 58.799761630256825, 24.618698379271354, 24.498474993025802, 23.806108967029285, 26.07514167329683, 65.37188026339551, 24.22906427886733, 20.926945939253628, 21.402132858065798, 17.97530707727448, 18.4413758139859, 17.436938453119744, 53.78698668386915, 15.608820565489708, 16.15546774345584, 13.658486953300393, 12.25038632535874, 15.225247572228422, 11.910797434688451, 14.878277973714095, 9.756458728982773, 9.340973392095034, 8.527090253675219, 7.214002169953387, 9.07515470866907, 7.740717555562078, 6.659296371626078, 11.80391107160928, 7.540660914340196, 130.20983455833067, 8.657281153257212, 9.519604634087269, 199.19276347322975, 116.85973385632624, 141.64180352609682, 98.27328892488795, 85.05088004204933, 262.60982192229056, 63.06745298525517, 63.03902828105416, 50.72848411340474, 50.20752807297994, 43.55844702329277, 41.02877611236659, 27.362976084466503, 26.437601713478063, 25.749135651127936, 280.50512032439684, 30.056467222921547, 47.5424284203553, 20.2980700268017, 20.511978446684775, 19.14912069008405, 26.726294906630734, 17.486375149436675, 13.701894342822003, 14.270518745065383, 13.480302258292001, 11.898052495399057, 11.32486184482709, 11.066941639151297, 9.958755076055242, 16.384290545494885, 12.356035448563714, 8.962152852711245, 16.808004916491278, 7.68140068720967, 7.404186357545582, 5.913009229370752, 5.516310337083923, 4.962923584726078, 4.864903838847724, 4.843736709809147, 4.727134479651235, 4.484678703121838, 4.686142371509497, 4.11420539502047, 3.930268888830832, 4.661026408665218, 3.0579343540693262, 2.838988879335818, 2.796066911624878, 10.29511982510059, 63.68059766988746, 5.572529235259267, 7.4436625581210425, 5.703458804185164], \"Total\": [459.0, 373.0, 351.0, 318.0, 297.0, 283.0, 268.0, 257.0, 274.0, 232.0, 223.0, 200.0, 210.0, 203.0, 200.0, 184.0, 191.0, 171.0, 177.0, 181.0, 158.0, 154.0, 157.0, 156.0, 156.0, 167.0, 143.0, 200.0, 149.0, 136.0, 128.0, 125.0, 123.0, 144.0, 123.0, 134.0, 126.0, 120.0, 118.0, 167.0, 116.0, 120.0, 118.0, 118.0, 117.0, 128.0, 120.0, 112.0, 119.0, 119.0, 134.72122470271967, 128.1081891538498, 351.80522912645637, 108.68613183208421, 103.09070777024343, 99.90551064781302, 84.11295381726626, 75.97700574515544, 100.60591252811187, 61.44084437706086, 57.66334393385159, 110.90832061404775, 56.12352094758343, 54.0937886987841, 54.02472986640902, 52.393332317108225, 59.95154333691611, 51.66737945060565, 49.94128680630024, 52.83132794554187, 57.21487342761416, 39.4867254043915, 41.82195370195515, 274.8164954880519, 41.64357756940067, 35.48555390160265, 38.413174437836595, 32.05683412329081, 35.927032335677204, 29.771261286661307, 27.49117011357972, 28.98240914191395, 25.028811189329495, 25.49142173054323, 21.997058798593898, 62.04091497076983, 17.36974420134567, 16.7201008188237, 16.436525780500773, 18.128304410351582, 15.343393872327145, 14.964989016573735, 13.472849799594186, 12.44001265876827, 51.20733521208808, 12.139560710099227, 10.235094549412914, 167.87514749093134, 10.22502554178035, 9.821302997425772, 11.743769537775359, 210.54444824665825, 200.43046428040142, 191.54763563182598, 119.52899065620957, 106.91329245947784, 82.62684928657724, 78.68499445305449, 75.80829578688696, 73.74264291983518, 65.0836626931117, 61.35802604715969, 52.04049357281591, 57.3492924161171, 50.07502016976216, 373.0282815445566, 46.62433505746786, 43.51721680570299, 44.1592491261235, 49.06216648519842, 40.00297154329879, 54.17022622698056, 33.178164246703766, 32.9616801962153, 34.88251723215679, 30.786649573036655, 29.90957719118591, 26.875164759105598, 28.464772372733577, 26.92507324235242, 25.251232499381892, 68.62693451600263, 25.381686413652435, 26.1028122036769, 28.257404692315752, 23.00178050882404, 21.487475452215097, 20.876642538671145, 19.700857595596865, 19.686027831187197, 18.30196720490982, 16.7380531948553, 18.118530171994845, 36.70617033000176, 19.316137873685776, 17.53206550795386, 14.536176905360275, 14.227809843584826, 12.453692042900128, 12.411651192852927, 12.028082032818807, 13.27966713053538, 297.9433707640121, 167.87514749093134, 177.45484474988527, 223.464106114929, 120.21640111338799, 111.24158169323358, 81.45976364007812, 119.9322225024472, 72.21294813459615, 69.21504911394558, 68.94585791481269, 62.84187813694132, 81.0001713466705, 71.8191409887045, 52.81990451727683, 48.71758733470816, 58.15747795870308, 60.13209971953452, 40.74826018944895, 36.156937703987325, 36.2859151180552, 46.59530406189344, 31.271676591951433, 27.29201744251829, 24.802435362263576, 22.943695465525327, 23.178381208094258, 21.689874366712715, 62.771086607826994, 144.9056660635018, 18.252768012488893, 32.79595669636012, 25.05364818185515, 12.22985913201629, 11.206528524314493, 11.289399233996633, 11.267256035110524, 10.44543075343164, 38.52201735635995, 459.53783036794243, 10.122669963594266, 10.601293236381022, 9.398294465110705, 9.741549512306312, 56.73425014343948, 7.116563051936334, 7.383532964535921, 6.128862552361671, 6.2369216057339365, 6.11725450073204, 8.046606587084176, 5.117817046250485, 26.089296838600045, 19.069803544366376, 10.974897018250479, 167.87514749093134, 283.084795462519, 203.31094363159247, 126.67382357524846, 93.57707228254719, 92.68452083819143, 110.6236532384312, 91.0112898932858, 88.17397882084957, 87.28038327888012, 77.92041746203802, 73.92224719589595, 70.50734885944337, 69.1711463993794, 65.70411014032919, 57.640708800798166, 53.71342111814877, 60.19095873523927, 50.41065831235781, 41.518770732123954, 37.36976187927107, 36.75304776495554, 66.80236534781476, 34.948462723756684, 37.37099123774833, 33.117645596352844, 33.034963423615366, 34.769455529373836, 31.479390666940375, 29.449278742524264, 101.03476505288904, 33.09694502238953, 39.62575687070771, 24.507567081237323, 24.080863143993962, 23.505071556814823, 23.828659948782448, 26.002317852799706, 30.282238181012968, 12.297153176916003, 12.174909611722093, 20.489087696316652, 10.914376292917556, 11.521494219101674, 9.751238552119803, 25.170179330433676, 9.106366127842543, 8.349609988830574, 8.219485814231213, 8.195178172431799, 8.049901414667588, 40.51373854378631, 14.750611312325757, 9.25998351753093, 167.19534642050547, 459.53783036794243, 232.59619968754674, 318.93749194047945, 106.63219046893457, 98.00242041227624, 85.86569706955619, 89.29685344135638, 149.98489460740277, 78.26939735598508, 71.78714257528468, 65.94091110290022, 65.36496505515021, 69.94639847765254, 52.1446764961608, 53.91786970878176, 65.04035148668805, 53.433912917183974, 49.12422699576343, 40.08710846828315, 39.46872656638286, 33.3903845593039, 31.767968131430933, 29.597648060625936, 28.561086029717494, 33.399668841718615, 23.80664133031574, 23.400321142043037, 22.09323065880481, 21.41283308750079, 27.20826141219646, 21.15047744888992, 167.19534642050547, 20.029046197428872, 51.295545014684045, 28.001233121128873, 13.441330689888693, 13.338945995330866, 34.05629577551647, 14.909054648722613, 11.83524506900336, 11.965459240052382, 11.390064336215628, 15.298495698930191, 10.543403816561318, 9.323531424750586, 8.00121101549295, 7.631856586116058, 7.379623110985847, 6.457150995416309, 5.850603264172584, 5.827373586217514, 7.006679131324174, 18.201874375595434, 8.770619631055427, 459.53783036794243, 120.28867228323789, 100.79316369676647, 95.66284274481501, 94.56348424961504, 91.15094078066238, 81.03025037222989, 81.32525565144452, 87.19715594320508, 69.9093046104383, 60.18005063223426, 58.81329093937555, 56.165490413304376, 55.15968783741517, 54.71718823248935, 116.55348410129346, 49.906623864052875, 52.609628533263546, 53.92345304704919, 49.20800465780395, 48.00549923291914, 42.9207548945383, 181.05521442989092, 39.40918129240095, 65.67614717410757, 37.68650338716484, 36.51668706303664, 29.776340562114495, 28.864614000799044, 27.26962188639173, 26.785720959637295, 25.353193183132518, 24.548746760316313, 21.009137536265765, 21.21574630546286, 19.273688707519387, 18.507726986817843, 19.803014069940037, 20.90162765129583, 18.80419755522772, 20.714158444151355, 99.1118937067725, 15.227743868512626, 15.66225136304386, 14.570117660688004, 13.174213685041037, 19.965283259605773, 12.219965453697531, 11.590603610424594, 10.904382699426135, 9.961936877110672, 125.35988564856882, 118.24194088295968, 118.06712851906141, 101.13014020650247, 156.76733191859293, 157.1702709199682, 90.7248304042492, 72.25171683808419, 66.04591439999595, 64.34787090395466, 60.38648062354157, 58.4838213985473, 59.28987575377073, 40.86336234367586, 44.50536326645999, 57.48810176550818, 37.90334274628284, 113.11228313744691, 51.428937146595935, 35.48180425321619, 34.09831025600834, 30.43366562944694, 29.349635597022772, 37.15178481563462, 27.438590055091552, 29.966162414360916, 31.68087502659966, 26.2955366641353, 23.562638765589572, 25.538546219648225, 26.671541833691727, 25.289567435702168, 18.681161978040844, 28.596443652656905, 16.575628431458327, 16.594629803770776, 15.374934489233507, 18.186176685995836, 14.937610232865529, 14.582116316138636, 14.669597023999712, 13.561455589971203, 18.870819885186027, 12.253861354747654, 12.073061193591617, 14.552466702187953, 17.686899358181257, 12.195877996062162, 11.45911115134081, 10.888090613520117, 21.800990254031593, 14.270037720400222, 18.118063124218896, 171.059188090597, 128.4664680905664, 123.42535464326032, 120.09501433193788, 108.74670698891288, 117.91209661318558, 72.87848411244624, 51.48341588214999, 51.77578704624997, 49.130464188008176, 45.89392240062479, 44.57010405276282, 49.95733456785956, 77.22384493439127, 39.1544474664052, 54.75610173727544, 72.23780121313102, 51.746997207101344, 156.77626624408651, 33.809761123134024, 41.8474192582623, 40.62227800569791, 25.359737318798242, 44.26461025601958, 25.209344637749204, 23.326054892488692, 24.452237243766746, 20.880141387811122, 22.117135811422056, 19.96955193798124, 18.949441198046195, 20.106786435876447, 18.137127720329957, 18.313753485843225, 13.420197106688951, 14.966959746690463, 14.85427918135055, 14.44742386232557, 10.650602659254535, 13.346477376371391, 10.444082990755678, 10.392493967423334, 10.0043041120954, 22.744814976762854, 10.96139630146315, 9.4360966689003, 8.744373113098955, 8.526073535941242, 7.866171785622772, 7.348181704935507, 12.390595290076156, 40.51373854378631, 257.204885397992, 158.11275105563325, 112.51447649332499, 70.96181772263385, 69.97515682675382, 69.73771811153932, 123.94659499086373, 69.0317184432462, 73.90983436262132, 66.71207042386632, 51.32833192277536, 50.99635332096702, 53.76579539114992, 55.163474319793366, 45.87715071694826, 40.926824324353575, 45.01709846903143, 34.085294999642976, 31.321149013116536, 36.68470906045288, 31.20109174742625, 29.15740620288875, 36.06081669316995, 28.503644187210305, 29.157932422296522, 31.97789861713102, 29.102213720853875, 28.95396256071572, 24.753072731396895, 22.96211952170303, 37.73240953187395, 21.408010214017764, 21.062831785750262, 25.386649960971052, 21.842502804847314, 18.902036663373867, 24.9577162969154, 29.522741542458085, 18.028511814619232, 12.84106230818686, 13.147495206960949, 14.602083800399877, 11.6744274012873, 11.573828437732768, 10.587650979329062, 10.257178406396363, 11.572230582101938, 10.429527094128515, 11.642446775379396, 10.178105398606885, 13.820102012970754, 13.440095206468019, 154.2012391524859, 84.48550446163662, 184.1759651119611, 75.31722879087853, 72.1147884677768, 67.98332789945947, 67.90969465557649, 63.30235466478283, 72.93961591248645, 59.924557818136606, 62.40936575709999, 52.03017426183736, 50.38710766018328, 48.3730290060914, 47.30845136237405, 84.59301521569874, 46.24726761171428, 44.248095899649606, 44.13754366189885, 38.66852344681491, 37.55046578118441, 39.4154270047006, 32.625172321355166, 30.393994028852948, 29.26704065230757, 30.342047867563164, 26.323548373524773, 25.868604873565317, 35.025294298622, 27.926997854860435, 25.48887018527093, 21.62885646933903, 21.608831812199988, 19.510104511732248, 16.171229805571098, 23.45800864740056, 14.37038181650278, 47.09631516682506, 13.317534462604609, 11.496602077400851, 11.137745329544597, 11.50330338105759, 10.630327880083641, 10.790346618239129, 11.316820148156278, 10.404681265373728, 14.039425290940294, 9.058797026631124, 17.83837779812295, 9.70459639752558, 116.80412484230116, 136.0435617063348, 90.70297496095652, 91.67720484132855, 102.24476243092344, 84.6039796732258, 64.21215637443363, 54.754102597953704, 53.5510600329458, 53.67716749847376, 55.792228461256755, 68.9556432501529, 50.270380411953404, 41.7283017491482, 39.39328849859575, 36.85261325038639, 32.03332645869943, 31.632458543616995, 31.4073286036273, 34.287903564221004, 30.877669133480094, 61.96761190513428, 25.966148838538622, 25.84430303806506, 25.177689647016802, 27.587678075168526, 69.32921758711632, 25.715964544591184, 22.310687436582285, 22.837599755692118, 19.35891662272536, 19.927880425627674, 18.876310826868497, 58.25664187764891, 16.96399341638622, 17.84609355258441, 15.11698951836072, 13.623299003202108, 16.977897551858526, 13.28726051034583, 16.810302414736316, 11.121237712900093, 10.70088151636407, 9.872924595436412, 8.579002600701408, 10.836179236814576, 9.294771190937366, 8.00910101580987, 14.215404043438976, 9.160524760593232, 200.45954905880973, 12.170537730226085, 16.18433638535721, 200.78364277071904, 118.236942489159, 143.40533355180156, 99.65423049063983, 86.55713298201222, 268.10612337009877, 64.43070755971118, 64.40401427244969, 52.09173849802673, 51.59230048342592, 44.94211031713793, 42.40753314884718, 28.805650946974215, 27.852795041480107, 27.128181076999304, 297.9433707640121, 31.954901862152596, 50.57093459541817, 21.679324306068445, 21.95303070327559, 20.512379340496217, 28.832949626926375, 18.903893533361646, 15.067310928002842, 15.694115041049566, 15.003134508670398, 13.261307363394245, 12.717430829395017, 12.538961823126806, 11.357159384852173, 18.73684607076484, 14.182808491044359, 10.386381123929684, 19.544173760397392, 9.044654591498713, 8.810706966406785, 7.351142026248292, 6.928070996521365, 6.344484900356131, 6.250142595302993, 6.224282503812819, 6.107057644146458, 5.863839160369809, 6.185258460989805, 5.510577589412423, 5.316420426600704, 6.50558427741584, 4.495166656175085, 4.21551358269111, 4.176090560095288, 18.157640578595156, 200.45954905880973, 19.069803544366376, 274.8164954880519, 156.77626624408651], \"Category\": [\"Default\", \"Default\", \"Default\", \"Default\", \"Default\", \"Default\", \"Default\", \"Default\", \"Default\", \"Default\", \"Default\", \"Default\", \"Default\", \"Default\", \"Default\", \"Default\", \"Default\", \"Default\", \"Default\", \"Default\", \"Default\", \"Default\", \"Default\", \"Default\", \"Default\", \"Default\", \"Default\", \"Default\", \"Default\", \"Default\", \"Default\", \"Default\", \"Default\", \"Default\", \"Default\", \"Default\", \"Default\", \"Default\", \"Default\", \"Default\", \"Default\", \"Default\", \"Default\", \"Default\", \"Default\", \"Default\", \"Default\", \"Default\", \"Default\", \"Default\", \"Topic1\", \"Topic1\", \"Topic1\", \"Topic1\", \"Topic1\", \"Topic1\", \"Topic1\", \"Topic1\", \"Topic1\", \"Topic1\", \"Topic1\", \"Topic1\", \"Topic1\", \"Topic1\", \"Topic1\", \"Topic1\", \"Topic1\", \"Topic1\", \"Topic1\", \"Topic1\", \"Topic1\", \"Topic1\", \"Topic1\", \"Topic1\", \"Topic1\", \"Topic1\", \"Topic1\", \"Topic1\", \"Topic1\", \"Topic1\", \"Topic1\", \"Topic1\", \"Topic1\", \"Topic1\", \"Topic1\", \"Topic1\", \"Topic1\", \"Topic1\", \"Topic1\", \"Topic1\", \"Topic1\", \"Topic1\", \"Topic1\", \"Topic1\", \"Topic1\", \"Topic1\", \"Topic1\", \"Topic1\", \"Topic1\", \"Topic1\", \"Topic1\", \"Topic2\", \"Topic2\", \"Topic2\", \"Topic2\", \"Topic2\", \"Topic2\", \"Topic2\", \"Topic2\", \"Topic2\", \"Topic2\", \"Topic2\", \"Topic2\", \"Topic2\", \"Topic2\", \"Topic2\", \"Topic2\", \"Topic2\", \"Topic2\", \"Topic2\", \"Topic2\", \"Topic2\", \"Topic2\", \"Topic2\", \"Topic2\", \"Topic2\", \"Topic2\", \"Topic2\", \"Topic2\", \"Topic2\", \"Topic2\", \"Topic2\", \"Topic2\", \"Topic2\", \"Topic2\", \"Topic2\", \"Topic2\", \"Topic2\", \"Topic2\", \"Topic2\", \"Topic2\", \"Topic2\", \"Topic2\", \"Topic2\", \"Topic2\", \"Topic2\", \"Topic2\", \"Topic2\", \"Topic2\", \"Topic2\", \"Topic2\", \"Topic2\", \"Topic2\", \"Topic2\", \"Topic3\", \"Topic3\", \"Topic3\", \"Topic3\", \"Topic3\", \"Topic3\", \"Topic3\", \"Topic3\", \"Topic3\", \"Topic3\", \"Topic3\", \"Topic3\", \"Topic3\", \"Topic3\", \"Topic3\", \"Topic3\", \"Topic3\", \"Topic3\", \"Topic3\", \"Topic3\", \"Topic3\", \"Topic3\", \"Topic3\", \"Topic3\", \"Topic3\", \"Topic3\", \"Topic3\", \"Topic3\", \"Topic3\", \"Topic3\", \"Topic3\", \"Topic3\", \"Topic3\", \"Topic3\", \"Topic3\", \"Topic3\", \"Topic3\", \"Topic3\", \"Topic3\", \"Topic3\", \"Topic3\", \"Topic3\", \"Topic3\", \"Topic3\", \"Topic3\", \"Topic3\", \"Topic3\", \"Topic3\", \"Topic3\", \"Topic3\", \"Topic3\", \"Topic3\", \"Topic3\", \"Topic3\", \"Topic4\", \"Topic4\", \"Topic4\", \"Topic4\", \"Topic4\", \"Topic4\", \"Topic4\", \"Topic4\", \"Topic4\", \"Topic4\", \"Topic4\", \"Topic4\", \"Topic4\", \"Topic4\", \"Topic4\", \"Topic4\", \"Topic4\", \"Topic4\", \"Topic4\", \"Topic4\", \"Topic4\", \"Topic4\", \"Topic4\", \"Topic4\", \"Topic4\", \"Topic4\", \"Topic4\", \"Topic4\", \"Topic4\", \"Topic4\", \"Topic4\", \"Topic4\", \"Topic4\", \"Topic4\", \"Topic4\", \"Topic4\", \"Topic4\", \"Topic4\", \"Topic4\", \"Topic4\", \"Topic4\", \"Topic4\", \"Topic4\", \"Topic4\", \"Topic4\", \"Topic4\", \"Topic4\", \"Topic4\", \"Topic4\", \"Topic4\", \"Topic4\", \"Topic4\", \"Topic4\", \"Topic4\", \"Topic4\", \"Topic5\", \"Topic5\", \"Topic5\", \"Topic5\", \"Topic5\", \"Topic5\", \"Topic5\", \"Topic5\", \"Topic5\", \"Topic5\", \"Topic5\", \"Topic5\", \"Topic5\", \"Topic5\", \"Topic5\", \"Topic5\", \"Topic5\", \"Topic5\", \"Topic5\", \"Topic5\", \"Topic5\", \"Topic5\", \"Topic5\", \"Topic5\", \"Topic5\", \"Topic5\", \"Topic5\", \"Topic5\", \"Topic5\", \"Topic5\", \"Topic5\", \"Topic5\", \"Topic5\", \"Topic5\", \"Topic5\", \"Topic5\", \"Topic5\", \"Topic5\", \"Topic5\", \"Topic5\", \"Topic5\", \"Topic5\", \"Topic5\", \"Topic5\", \"Topic5\", \"Topic5\", \"Topic5\", \"Topic5\", \"Topic5\", \"Topic5\", \"Topic5\", \"Topic5\", \"Topic5\", \"Topic5\", \"Topic6\", \"Topic6\", \"Topic6\", \"Topic6\", \"Topic6\", \"Topic6\", \"Topic6\", \"Topic6\", \"Topic6\", \"Topic6\", \"Topic6\", \"Topic6\", \"Topic6\", \"Topic6\", \"Topic6\", \"Topic6\", \"Topic6\", \"Topic6\", \"Topic6\", \"Topic6\", \"Topic6\", \"Topic6\", \"Topic6\", \"Topic6\", \"Topic6\", \"Topic6\", \"Topic6\", \"Topic6\", \"Topic6\", \"Topic6\", \"Topic6\", \"Topic6\", \"Topic6\", \"Topic6\", \"Topic6\", \"Topic6\", \"Topic6\", \"Topic6\", \"Topic6\", \"Topic6\", \"Topic6\", \"Topic6\", \"Topic6\", \"Topic6\", \"Topic6\", \"Topic6\", \"Topic6\", \"Topic6\", \"Topic6\", \"Topic6\", \"Topic7\", \"Topic7\", \"Topic7\", \"Topic7\", \"Topic7\", \"Topic7\", \"Topic7\", \"Topic7\", \"Topic7\", \"Topic7\", \"Topic7\", \"Topic7\", \"Topic7\", \"Topic7\", \"Topic7\", \"Topic7\", \"Topic7\", \"Topic7\", \"Topic7\", \"Topic7\", \"Topic7\", \"Topic7\", \"Topic7\", \"Topic7\", \"Topic7\", \"Topic7\", \"Topic7\", \"Topic7\", \"Topic7\", \"Topic7\", \"Topic7\", \"Topic7\", \"Topic7\", \"Topic7\", \"Topic7\", \"Topic7\", \"Topic7\", \"Topic7\", \"Topic7\", \"Topic7\", \"Topic7\", \"Topic7\", \"Topic7\", \"Topic7\", \"Topic7\", \"Topic7\", \"Topic7\", \"Topic7\", \"Topic7\", \"Topic7\", \"Topic7\", \"Topic7\", \"Topic7\", \"Topic8\", \"Topic8\", \"Topic8\", \"Topic8\", \"Topic8\", \"Topic8\", \"Topic8\", \"Topic8\", \"Topic8\", \"Topic8\", \"Topic8\", \"Topic8\", \"Topic8\", \"Topic8\", \"Topic8\", \"Topic8\", \"Topic8\", \"Topic8\", \"Topic8\", \"Topic8\", \"Topic8\", \"Topic8\", \"Topic8\", \"Topic8\", \"Topic8\", \"Topic8\", \"Topic8\", \"Topic8\", \"Topic8\", \"Topic8\", \"Topic8\", \"Topic8\", \"Topic8\", \"Topic8\", \"Topic8\", \"Topic8\", \"Topic8\", \"Topic8\", \"Topic8\", \"Topic8\", \"Topic8\", \"Topic8\", \"Topic8\", \"Topic8\", \"Topic8\", \"Topic8\", \"Topic8\", \"Topic8\", \"Topic8\", \"Topic8\", \"Topic8\", \"Topic8\", \"Topic9\", \"Topic9\", \"Topic9\", \"Topic9\", \"Topic9\", \"Topic9\", \"Topic9\", \"Topic9\", \"Topic9\", \"Topic9\", \"Topic9\", \"Topic9\", \"Topic9\", \"Topic9\", \"Topic9\", \"Topic9\", \"Topic9\", \"Topic9\", \"Topic9\", \"Topic9\", \"Topic9\", \"Topic9\", \"Topic9\", \"Topic9\", \"Topic9\", \"Topic9\", \"Topic9\", \"Topic9\", \"Topic9\", \"Topic9\", \"Topic9\", \"Topic9\", \"Topic9\", \"Topic9\", \"Topic9\", \"Topic9\", \"Topic9\", \"Topic9\", \"Topic9\", \"Topic9\", \"Topic9\", \"Topic9\", \"Topic9\", \"Topic9\", \"Topic9\", \"Topic9\", \"Topic9\", \"Topic9\", \"Topic9\", \"Topic9\", \"Topic9\", \"Topic9\", \"Topic10\", \"Topic10\", \"Topic10\", \"Topic10\", \"Topic10\", \"Topic10\", \"Topic10\", \"Topic10\", \"Topic10\", \"Topic10\", \"Topic10\", \"Topic10\", \"Topic10\", \"Topic10\", \"Topic10\", \"Topic10\", \"Topic10\", \"Topic10\", \"Topic10\", \"Topic10\", \"Topic10\", \"Topic10\", \"Topic10\", \"Topic10\", \"Topic10\", \"Topic10\", \"Topic10\", \"Topic10\", \"Topic10\", \"Topic10\", \"Topic10\", \"Topic10\", \"Topic10\", \"Topic10\", \"Topic10\", \"Topic10\", \"Topic10\", \"Topic10\", \"Topic10\", \"Topic10\", \"Topic10\", \"Topic10\", \"Topic10\", \"Topic10\", \"Topic10\", \"Topic10\", \"Topic10\", \"Topic10\", \"Topic10\", \"Topic10\", \"Topic11\", \"Topic11\", \"Topic11\", \"Topic11\", \"Topic11\", \"Topic11\", \"Topic11\", \"Topic11\", \"Topic11\", \"Topic11\", \"Topic11\", \"Topic11\", \"Topic11\", \"Topic11\", \"Topic11\", \"Topic11\", \"Topic11\", \"Topic11\", \"Topic11\", \"Topic11\", \"Topic11\", \"Topic11\", \"Topic11\", \"Topic11\", \"Topic11\", \"Topic11\", \"Topic11\", \"Topic11\", \"Topic11\", \"Topic11\", \"Topic11\", \"Topic11\", \"Topic11\", \"Topic11\", \"Topic11\", \"Topic11\", \"Topic11\", \"Topic11\", \"Topic11\", \"Topic11\", \"Topic11\", \"Topic11\", \"Topic11\", \"Topic11\", \"Topic11\", \"Topic11\", \"Topic11\", \"Topic11\", \"Topic11\", \"Topic11\", \"Topic11\", \"Topic11\", \"Topic11\", \"Topic12\", \"Topic12\", \"Topic12\", \"Topic12\", \"Topic12\", \"Topic12\", \"Topic12\", \"Topic12\", \"Topic12\", \"Topic12\", \"Topic12\", \"Topic12\", \"Topic12\", \"Topic12\", \"Topic12\", \"Topic12\", \"Topic12\", \"Topic12\", \"Topic12\", \"Topic12\", \"Topic12\", \"Topic12\", \"Topic12\", \"Topic12\", \"Topic12\", \"Topic12\", \"Topic12\", \"Topic12\", \"Topic12\", \"Topic12\", \"Topic12\", \"Topic12\", \"Topic12\", \"Topic12\", \"Topic12\", \"Topic12\", \"Topic12\", \"Topic12\", \"Topic12\", \"Topic12\", \"Topic12\", \"Topic12\", \"Topic12\", \"Topic12\", \"Topic12\", \"Topic12\", \"Topic12\", \"Topic12\", \"Topic12\", \"Topic12\", \"Topic12\", \"Topic12\", \"Topic12\", \"Topic12\", \"Topic12\"], \"logprob\": [50.0, 49.0, 48.0, 47.0, 46.0, 45.0, 44.0, 43.0, 42.0, 41.0, 40.0, 39.0, 38.0, 37.0, 36.0, 35.0, 34.0, 33.0, 32.0, 31.0, 30.0, 29.0, 28.0, 27.0, 26.0, 25.0, 24.0, 23.0, 22.0, 21.0, 20.0, 19.0, 18.0, 17.0, 16.0, 15.0, 14.0, 13.0, 12.0, 11.0, 10.0, 9.0, 8.0, 7.0, 6.0, 5.0, 4.0, 3.0, 2.0, 1.0, -3.2785, -3.3296, -2.3195, -3.4956, -3.5491, -3.5811, -3.7562, -3.8602, -3.5794, -4.0762, -4.1411, -3.4874, -4.1689, -4.2068, -4.2083, -4.2399, -4.106, -4.2553, -4.2893, -4.2341, -4.1561, -4.5315, -4.4744, -2.5956, -4.4829, -4.6445, -4.5664, -4.7487, -4.6372, -4.8277, -4.9099, -4.8623, -5.0106, -4.9951, -5.1469, -4.112, -5.4021, -5.4426, -5.4618, -5.3708, -5.5376, -5.5658, -5.6806, -5.7703, -4.356, -5.8088, -5.9937, -3.1966, -5.9984, -6.043, -5.8905, -2.7715, -2.8209, -2.8697, -3.3428, -3.457, -3.7175, -3.7669, -3.8049, -3.8332, -3.9608, -4.0221, -4.1901, -4.0934, -4.2293, -2.2212, -4.3027, -4.374, -4.3598, -4.2552, -4.4613, -4.16, -4.656, -4.663, -4.6066, -4.7341, -4.7654, -4.8766, -4.8216, -4.8778, -4.9427, -3.9445, -4.9407, -4.914, -4.8351, -5.0417, -5.1149, -5.1461, -5.2085, -5.2132, -5.2874, -5.3867, -5.3075, -4.6016, -5.2477, -5.3487, -5.5417, -5.5667, -5.7115, -5.7173, -5.7523, -5.6863, -5.3492, -5.4398, -2.8881, -2.6599, -3.2808, -3.3597, -3.6757, -3.2889, -3.7983, -3.8416, -3.846, -3.9405, -3.6874, -3.808, -4.1182, -4.2017, -4.0252, -3.9977, -4.3881, -4.5101, -4.5067, -4.2585, -4.6618, -4.8043, -4.9065, -4.9884, -4.9791, -5.0488, -3.9891, -3.1612, -5.2346, -4.6525, -4.9265, -5.6806, -5.775, -5.7681, -5.7705, -5.8571, -4.5552, -2.0775, -5.8958, -5.8517, -5.981, -5.9751, -4.2382, -6.3225, -6.2882, -6.5041, -6.493, -6.5141, -6.2515, -6.7586, -5.2282, -5.5536, -6.0962, -6.1826, -2.4165, -2.7512, -3.2284, -3.5338, -3.5437, -3.3668, -3.5622, -3.5954, -3.6063, -3.7198, -3.7734, -3.8217, -3.8412, -3.8937, -4.0278, -4.1001, -3.9877, -4.1678, -4.3655, -4.4758, -4.493, -3.8964, -4.5444, -4.4779, -4.6008, -4.6043, -4.5552, -4.6568, -4.7251, -3.4986, -4.6152, -4.436, -4.918, -4.9359, -4.9616, -4.9483, -4.8629, -4.7425, -5.6708, -5.6809, -5.1652, -5.8076, -5.7596, -5.9401, -5.0035, -6.0304, -6.1213, -6.141, -6.1456, -6.1666, -4.7646, -5.746, -6.074, -5.7255, -5.9017, -2.5983, -2.2839, -3.3848, -3.4707, -3.6049, -3.5659, -3.0483, -3.6989, -3.7872, -3.8743, -3.8838, -3.818, -4.1142, -4.0811, -3.8971, -4.0936, -4.1811, -4.3853, -4.4017, -4.5757, -4.6282, -4.7029, -4.7413, -4.5868, -4.9321, -4.9497, -5.0107, -5.0441, -4.8048, -5.0574, -2.9937, -5.1165, -4.1934, -4.8129, -5.5516, -5.5605, -4.6249, -5.4567, -5.6982, -5.6873, -5.7381, -5.4455, -5.8276, -5.9758, -6.1547, -6.2154, -6.253, -6.4188, -6.545, -6.5503, -6.366, -5.4539, -6.2327, -4.2218, -3.2194, -3.3984, -3.4513, -3.4632, -3.5011, -3.62, -3.6164, -3.5474, -3.7713, -3.924, -3.9482, -3.9944, -4.0129, -4.0217, -3.2675, -4.1159, -4.0633, -4.0394, -4.1316, -4.1577, -4.2711, -2.8329, -4.3606, -3.8572, -4.4147, -4.4467, -4.6515, -4.6848, -4.7446, -4.7665, -4.8216, -4.8565, -5.0206, -5.0115, -5.1145, -5.1569, -5.0924, -5.0387, -5.1517, -5.0586, -3.494, -5.3727, -5.3461, -5.4194, -5.5361, -5.1242, -5.6193, -5.6758, -5.7442, -5.8507, -3.1662, -3.2252, -3.2267, -3.3835, -2.9458, -2.9443, -3.4955, -3.7262, -3.8169, -3.8438, -3.9085, -3.9416, -3.9315, -4.3104, -4.2259, -3.9717, -4.3883, -3.2956, -4.0852, -4.458, -4.5018, -4.6187, -4.6558, -4.424, -4.7279, -4.6433, -4.589, -4.7763, -4.8871, -4.8073, -4.7666, -4.8241, -5.1355, -4.7155, -5.2661, -5.2653, -5.3475, -5.1809, -5.3792, -5.4068, -5.4092, -5.4896, -5.1663, -5.6001, -5.6165, -5.4313, -5.238, -5.6116, -5.6778, -5.734, -5.074, -5.5236, -5.551, -2.8198, -3.1078, -3.1483, -3.1762, -3.2766, -3.2006, -3.6842, -4.0387, -4.0337, -4.0864, -4.157, -4.1883, -4.075, -3.6408, -4.3216, -3.9873, -3.7129, -4.0498, -2.9463, -4.4817, -4.2733, -4.3036, -4.7754, -4.2184, -4.7815, -4.8642, -4.8182, -4.9818, -4.9243, -5.0297, -5.0865, -5.0288, -5.1336, -5.1334, -5.4627, -5.3544, -5.363, -5.4111, -5.7244, -5.5005, -5.7482, -5.7532, -5.7978, -4.978, -5.7139, -5.8698, -5.963, -5.9937, -6.0864, -6.1631, -5.6958, -5.5145, -2.3896, -2.8812, -3.2244, -3.6918, -3.7058, -3.7094, -3.1352, -3.7208, -3.653, -3.756, -4.0233, -4.03, -3.9779, -3.9546, -4.1406, -4.257, -4.1644, -4.4473, -4.5347, -4.3781, -4.5413, -4.6101, -4.3982, -4.6336, -4.6152, -4.5245, -4.6194, -4.6245, -4.7838, -4.8621, -4.3684, -4.9376, -4.9542, -4.7682, -4.9243, -5.0712, -4.7941, -4.6296, -5.1239, -5.4951, -5.4718, -5.3758, -5.6019, -5.6229, -5.7178, -5.75, -5.6293, -5.7362, -5.6291, -5.7703, -5.4706, -5.566, -2.9031, -3.5104, -2.7318, -3.6266, -3.6707, -3.7309, -3.732, -3.804, -3.6625, -3.8605, -3.8227, -4.0053, -4.0376, -4.0798, -4.1023, -3.5229, -4.1268, -4.1715, -4.1768, -4.3115, -4.341, -4.2945, -4.488, -4.5618, -4.6013, -4.5691, -4.7125, -4.7313, -4.4301, -4.6578, -4.7526, -4.9206, -4.9227, -5.0318, -5.2345, -4.8639, -5.365, -4.1882, -5.4543, -5.6131, -5.6509, -5.6205, -5.7024, -5.6893, -5.6427, -5.7275, -5.4291, -5.8903, -5.2203, -5.8349, -3.1808, -3.0296, -3.4377, -3.4271, -3.32, -3.5112, -3.7892, -3.9516, -3.9755, -3.9739, -3.9357, -3.7244, -4.0414, -4.232, -4.2914, -4.3607, -4.5062, -4.519, -4.5278, -4.4403, -4.5494, -3.8554, -4.7261, -4.731, -4.7596, -4.6686, -3.7495, -4.742, -4.8885, -4.8661, -5.0406, -5.015, -5.071, -3.9445, -5.1817, -5.1473, -5.3152, -5.424, -5.2066, -5.4521, -5.2297, -5.6516, -5.6952, -5.7863, -5.9536, -5.724, -5.8831, -6.0336, -5.4611, -5.9093, -3.0604, -5.7712, -5.6762, -2.6228, -3.1561, -2.9638, -3.3293, -3.4738, -2.3464, -3.7729, -3.7733, -3.9906, -4.0009, -4.143, -4.2028, -4.6079, -4.6423, -4.6687, -2.2805, -4.514, -4.0554, -4.9065, -4.896, -4.9648, -4.6314, -5.0556, -5.2995, -5.2589, -5.3158, -5.4407, -5.4901, -5.5131, -5.6186, -5.1207, -5.4029, -5.724, -5.0952, -5.8783, -5.915, -6.1399, -6.2093, -6.3151, -6.335, -6.3394, -6.3637, -6.4164, -6.3724, -6.5026, -6.5484, -6.3778, -6.7993, -6.8736, -6.8888, -5.5854, -3.7632, -6.1992, -5.9097, -6.176], \"loglift\": [50.0, 49.0, 48.0, 47.0, 46.0, 45.0, 44.0, 43.0, 42.0, 41.0, 40.0, 39.0, 38.0, 37.0, 36.0, 35.0, 34.0, 33.0, 32.0, 31.0, 30.0, 29.0, 28.0, 27.0, 26.0, 25.0, 24.0, 23.0, 22.0, 21.0, 20.0, 19.0, 18.0, 17.0, 16.0, 15.0, 14.0, 13.0, 12.0, 11.0, 10.0, 9.0, 8.0, 7.0, 6.0, 5.0, 4.0, 3.0, 2.0, 1.0, 2.3138, 2.313, 2.3129, 2.3114, 2.3107, 2.3101, 2.3071, 2.3049, 2.3048, 2.3012, 2.2998, 2.2994, 2.2991, 2.2979, 2.2978, 2.2968, 2.296, 2.2954, 2.2953, 2.2942, 2.2926, 2.288, 2.2876, 2.2837, 2.2834, 2.2819, 2.2807, 2.2793, 2.2768, 2.2742, 2.2717, 2.2665, 2.2648, 2.262, 2.2576, 2.2557, 2.2386, 2.2362, 2.2342, 2.2272, 2.2271, 2.224, 2.2142, 2.2043, 2.2036, 2.1902, 2.176, 2.1757, 2.1723, 2.1679, 2.1416, 2.3743, 2.3741, 2.3707, 2.3692, 2.3664, 2.3637, 2.3631, 2.3624, 2.3616, 2.359, 2.3566, 2.3534, 2.3529, 2.3526, 2.3526, 2.3506, 2.3483, 2.3478, 2.3472, 2.3452, 2.3433, 2.3376, 2.3371, 2.3369, 2.3343, 2.3319, 2.3276, 2.3252, 2.3246, 2.3239, 2.3223, 2.3207, 2.3195, 2.319, 2.3182, 2.3131, 2.3108, 2.3063, 2.3024, 2.301, 2.2911, 2.291, 2.2909, 2.2869, 2.2828, 2.2771, 2.2736, 2.2619, 2.2595, 2.2559, 2.223, -0.5506, -0.0675, 2.4287, 2.4263, 2.4254, 2.424, 2.4197, 2.4196, 2.4176, 2.4167, 2.4161, 2.4143, 2.4137, 2.4133, 2.4104, 2.4078, 2.4071, 2.4012, 2.4, 2.3975, 2.3973, 2.3955, 2.391, 2.3846, 2.378, 2.3741, 2.3732, 2.3699, 2.3669, 2.3582, 2.3566, 2.3527, 2.348, 2.311, 2.304, 2.3035, 2.3031, 2.2922, 2.2891, 2.2877, 2.2849, 2.2828, 2.274, 2.2439, 2.2189, 2.2105, 2.208, 2.1784, 2.172, 2.1703, 2.1587, 2.1041, 2.0057, 1.9938, 2.0037, -0.8104, 2.4332, 2.4295, 2.4254, 2.4229, 2.4225, 2.4225, 2.4223, 2.4208, 2.4201, 2.42, 2.419, 2.4181, 2.4177, 2.4166, 2.4135, 2.4117, 2.4102, 2.4074, 2.4038, 2.3988, 2.3982, 2.3973, 2.3972, 2.3966, 2.3946, 2.3936, 2.3915, 2.3894, 2.3877, 2.3814, 2.3808, 2.38, 2.3785, 2.3781, 2.3766, 2.3763, 2.3743, 2.3424, 2.3153, 2.3152, 2.3104, 2.2978, 2.2916, 2.278, 2.2663, 2.2561, 2.252, 2.248, 2.2464, 2.2432, 2.0292, 2.0582, 2.1958, -0.3492, -1.5364, 2.4479, 2.4466, 2.4413, 2.4397, 2.4378, 2.4376, 2.4366, 2.4365, 2.4346, 2.4324, 2.4317, 2.4298, 2.4272, 2.4269, 2.4234, 2.4234, 2.42, 2.4191, 2.4183, 2.4115, 2.4088, 2.4048, 2.4021, 2.4001, 2.3934, 2.393, 2.3895, 2.3873, 2.3872, 2.3864, 2.3826, 2.3817, 2.3645, 2.3503, 2.3456, 2.3443, 2.3425, 2.3368, 2.3262, 2.3261, 2.3246, 2.3223, 2.3123, 2.2871, 2.2612, 2.2477, 2.2438, 2.2115, 2.184, 2.1826, 2.1826, 2.14, 2.0914, 0.1435, 2.4862, 2.484, 2.4833, 2.483, 2.4818, 2.4806, 2.4806, 2.4799, 2.477, 2.4741, 2.4729, 2.4728, 2.4723, 2.4716, 2.4696, 2.4694, 2.4693, 2.4685, 2.4678, 2.4664, 2.465, 2.4638, 2.4609, 2.4535, 2.4515, 2.451, 2.4502, 2.448, 2.4451, 2.4411, 2.4409, 2.4384, 2.4299, 2.4293, 2.4223, 2.4204, 2.4173, 2.4169, 2.4097, 2.4061, 2.4053, 2.3997, 2.3981, 2.3971, 2.3811, 2.3773, 2.3731, 2.3694, 2.3621, 2.346, 2.4981, 2.4976, 2.4976, 2.4956, 2.4949, 2.4939, 2.4921, 2.4891, 2.4882, 2.4874, 2.4862, 2.4851, 2.4815, 2.4748, 2.474, 2.4721, 2.4721, 2.4715, 2.4701, 2.4684, 2.4645, 2.4612, 2.4604, 2.4565, 2.4557, 2.4521, 2.4507, 2.4498, 2.4487, 2.448, 2.4453, 2.4409, 2.4325, 2.4267, 2.4214, 2.421, 2.4152, 2.4139, 2.4124, 2.4089, 2.4005, 2.3987, 2.3916, 2.3895, 2.388, 2.3864, 2.3847, 2.3828, 2.3789, 2.3738, 2.3396, 2.3137, 2.0476, 2.5337, 2.532, 2.5315, 2.5309, 2.5298, 2.525, 2.5224, 2.5155, 2.5149, 2.5146, 2.5122, 2.5101, 2.5093, 2.508, 2.5064, 2.5053, 2.5026, 2.4993, 2.4943, 2.4931, 2.4882, 2.4876, 2.4869, 2.4869, 2.4867, 2.4817, 2.4805, 2.4748, 2.4748, 2.4715, 2.4672, 2.4656, 2.4639, 2.4544, 2.436, 2.4352, 2.4342, 2.4138, 2.4054, 2.4037, 2.4013, 2.4012, 2.3947, 2.3931, 2.3872, 2.3811, 2.3641, 2.3586, 2.3465, 2.3379, 2.2827, 1.2793, 2.556, 2.5509, 2.548, 2.5416, 2.5415, 2.5413, 2.5405, 2.5402, 2.5397, 2.5391, 2.534, 2.5337, 2.5329, 2.5306, 2.5289, 2.5267, 2.524, 2.5193, 2.5165, 2.515, 2.5137, 2.5127, 2.5121, 2.5118, 2.5076, 2.506, 2.5053, 2.5052, 2.5027, 2.4995, 2.4966, 2.4941, 2.4937, 2.493, 2.4873, 2.485, 2.4842, 2.4808, 2.4796, 2.4477, 2.4474, 2.4385, 2.4361, 2.4238, 2.418, 2.4175, 2.4175, 2.4146, 2.4117, 2.4049, 2.3987, 2.3312, 2.5542, 2.5485, 2.5478, 2.5472, 2.5465, 2.5453, 2.5453, 2.5436, 2.5433, 2.5419, 2.5391, 2.5384, 2.5381, 2.5367, 2.5365, 2.5347, 2.5347, 2.5341, 2.5314, 2.5289, 2.5288, 2.5268, 2.5224, 2.5194, 2.5177, 2.5138, 2.5125, 2.5111, 2.5093, 2.508, 2.5046, 2.5008, 2.4996, 2.4928, 2.4778, 2.4764, 2.4653, 2.455, 2.452, 2.4403, 2.4343, 2.4323, 2.4294, 2.4275, 2.4265, 2.4257, 2.4245, 2.4014, 2.3939, 2.388, 2.5541, 2.5529, 2.5502, 2.5501, 2.5481, 2.5463, 2.544, 2.541, 2.5393, 2.5386, 2.5381, 2.5376, 2.5366, 2.5323, 2.5304, 2.5278, 2.5225, 2.5223, 2.5206, 2.5204, 2.5161, 2.5134, 2.5126, 2.5124, 2.5099, 2.5095, 2.5071, 2.5063, 2.5019, 2.501, 2.4917, 2.4884, 2.4866, 2.4861, 2.4826, 2.4664, 2.4644, 2.4597, 2.4569, 2.4565, 2.4438, 2.435, 2.43, 2.4193, 2.3926, 2.3885, 2.3829, 2.3813, 2.38, 2.3713, 2.1344, 2.2253, 2.0352, 2.5705, 2.5667, 2.566, 2.5645, 2.5609, 2.5577, 2.557, 2.557, 2.5519, 2.5512, 2.5471, 2.5454, 2.527, 2.5263, 2.5262, 2.5181, 2.5172, 2.5167, 2.5126, 2.5105, 2.5096, 2.5025, 2.5005, 2.4834, 2.4833, 2.4714, 2.4699, 2.4624, 2.4535, 2.447, 2.4442, 2.4405, 2.4309, 2.4276, 2.415, 2.4045, 2.3607, 2.3505, 2.3328, 2.3279, 2.3276, 2.3223, 2.3103, 2.3009, 2.2862, 2.2763, 2.245, 2.1932, 2.1831, 2.1773, 2.011, 1.4317, 1.3482, -1.0303, -0.7353]}, \"token.table\": {\"Topic\": [11, 3, 4, 5, 6, 7, 11, 12, 10, 5, 1, 7, 3, 8, 1, 1, 5, 6, 12, 2, 6, 6, 1, 12, 11, 12, 3, 6, 9, 5, 5, 6, 4, 1, 3, 6, 3, 4, 5, 1, 11, 1, 12, 4, 9, 5, 9, 9, 6, 7, 5, 1, 6, 1, 11, 3, 5, 2, 2, 12, 8, 6, 10, 6, 7, 4, 1, 7, 4, 9, 8, 2, 4, 10, 1, 2, 3, 10, 4, 1, 3, 9, 9, 10, 2, 7, 8, 9, 12, 9, 4, 5, 7, 10, 5, 4, 2, 7, 6, 9, 4, 6, 3, 12, 5, 10, 7, 8, 4, 2, 7, 6, 10, 2, 3, 11, 7, 8, 1, 6, 3, 11, 4, 7, 11, 2, 11, 4, 2, 1, 9, 8, 6, 6, 2, 1, 4, 11, 7, 11, 12, 1, 6, 7, 9, 2, 9, 11, 6, 11, 9, 1, 2, 3, 1, 3, 8, 12, 12, 1, 9, 4, 9, 7, 3, 12, 1, 10, 8, 4, 5, 2, 9, 8, 12, 5, 7, 3, 8, 12, 6, 10, 11, 12, 3, 5, 5, 1, 3, 5, 11, 2, 5, 5, 5, 8, 2, 2, 12, 4, 4, 9, 11, 4, 7, 10, 8, 4, 8, 10, 3, 4, 11, 6, 6, 5, 10, 9, 12, 7, 12, 2, 4, 9, 10, 6, 9, 7, 9, 11, 8, 3, 7, 3, 11, 9, 10, 10, 3, 7, 1, 2, 10, 9, 2, 4, 8, 4, 12, 1, 3, 11, 12, 2, 5, 3, 12, 11, 2, 7, 7, 1, 3, 1, 2, 10, 11, 10, 12, 8, 5, 7, 9, 8, 12, 10, 10, 5, 12, 4, 12, 12, 3, 1, 2, 5, 10, 7, 10, 7, 2, 7, 11, 6, 1, 5, 8, 5, 4, 1, 4, 5, 6, 7, 11, 12, 10, 8, 1, 8, 11, 11, 5, 7, 8, 9, 8, 6, 7, 1, 7, 6, 8, 12, 1, 9, 1, 9, 2, 6, 4, 4, 10, 4, 5, 10, 1, 3, 12, 10, 9, 6, 3, 8, 9, 1, 1, 12, 2, 12, 1, 7, 5, 5, 12, 8, 11, 1, 5, 10, 1, 3, 9, 12, 11, 2, 3, 11, 2, 7, 9, 4, 3, 9, 3, 8, 9, 12, 3, 4, 8, 6, 8, 11, 11, 12, 11, 1, 2, 3, 9, 8, 4, 8, 10, 6, 10, 5, 4, 4, 6, 2, 2, 9, 1, 11, 5, 5, 8, 7, 7, 1, 7, 8, 9, 8, 2, 9, 4, 12, 10, 6, 10, 9, 2, 6, 11, 5, 2, 6, 3, 10, 10, 6, 5, 6, 6, 4, 9, 2, 7, 8, 10, 5, 7, 12, 9, 1, 6, 9, 10, 8, 8, 2, 5, 10, 11, 12, 2, 5, 8, 5, 4, 7, 12, 7, 12, 4, 4, 11, 8, 3, 10, 12, 11, 1, 12, 11, 11, 4, 12, 12, 2, 11, 4, 3, 12, 1, 12, 12, 2, 6, 12, 10, 3, 6, 7, 8, 5, 7, 5, 12, 8, 10, 5, 6, 9, 4, 7, 11, 10, 5, 5, 6, 8, 12, 4, 7, 8, 9, 7, 6, 8, 12, 10, 5, 11, 11, 1, 4, 11, 2, 3, 4, 5, 7, 8, 5, 10, 9, 12, 1, 3, 1, 11, 11, 1, 9, 1, 12, 5, 4, 1, 8, 6, 9, 12, 3, 9, 7, 9, 3, 3, 8, 7, 8, 1, 4, 7, 8, 2, 8, 3, 1, 11, 3, 5, 3, 3, 7, 9, 2, 8, 12, 5, 11, 3, 9, 4, 10, 1, 7, 7, 7, 5, 7, 11, 3, 9, 3, 6, 4, 4, 11, 10, 11, 8, 4, 10, 9, 5, 5, 12, 2, 2, 7, 9, 6, 10, 4, 1, 11, 2, 5, 5, 8, 9, 4, 7, 6, 11, 9, 6, 3, 9, 12, 2, 10, 2, 1, 12, 7, 4, 2, 1, 1, 5, 6, 3, 3, 3, 5, 3, 4, 12, 1, 4, 11, 7, 9, 8, 2, 10, 9, 10, 8, 8, 2, 4, 11, 9, 3, 11, 2, 4, 2, 2, 4, 9, 12, 2, 10, 1, 3, 3, 11, 4, 10, 7, 1, 5, 1, 1, 6, 4, 3, 11, 6, 10, 1, 12, 3, 7, 3, 12, 9, 9, 6, 10, 3, 7, 3, 10, 10, 2, 9, 9, 12, 8, 11, 5, 4, 12, 6, 8, 11, 5, 9, 4, 12, 8, 5, 10, 2, 6, 2, 3, 7, 6, 5, 1, 10, 8, 8, 1, 4, 5, 8, 12, 6, 7, 7, 8, 5, 7, 5], \"Freq\": [0.9716391123630252, 0.01008960642966373, 0.01008960642966373, 0.01008960642966373, 0.9080645786697357, 0.01008960642966373, 0.030268819288991188, 0.01008960642966373, 0.9275732384207661, 0.9443474595505615, 0.9811521315029172, 0.9343872469496242, 0.9918016059131223, 0.8751686864968455, 0.9564354713091756, 0.9871407706111432, 0.9162589068221346, 0.05848461107375327, 0.01949487035791776, 0.9803108880391314, 0.8627678364400276, 0.9519667318792215, 0.9711542234567649, 0.8992856402834871, 0.9532248723561361, 0.7116570593718388, 0.9645615905270265, 0.008067990896189696, 0.9762268984389533, 0.8779581664173918, 0.8536142745346643, 0.917062457880011, 0.9551152656974614, 0.8793274899953163, 0.9898815710491892, 0.9354013879850454, 0.9147469085214875, 0.03049156361738292, 0.03049156361738292, 0.9844862283378598, 0.9031206990076297, 0.05116614354024588, 0.8698244401841799, 0.9740638730714167, 0.9681594365061431, 0.9728813449056006, 0.9621261210083115, 0.921558676538151, 0.9803913320138985, 0.9528921147093187, 0.8719533401880596, 0.9623487288660773, 0.983466300316431, 0.9061283404471798, 0.9624385444910981, 0.7456559401861104, 0.1242759900310184, 0.9800060779331381, 0.9143540867845295, 0.7999817482176359, 0.845022604629768, 0.981833596547774, 0.971793229193858, 0.9015649698503412, 0.0500869427694634, 0.9867863499497657, 0.986768342249826, 0.9039068769459123, 0.9530044694132523, 0.9750820910320008, 0.9805219873598641, 0.9821042602330948, 0.9366423390143417, 0.8466342808542973, 0.9581363755594201, 0.9101080293349412, 0.9570960776896769, 0.9010676888951014, 0.968100689129819, 0.055208331166941196, 0.924739547046265, 0.0069010413958676495, 0.8774342848894596, 0.9309987466295072, 0.8961615682169347, 0.9826756111430641, 0.9769905656970345, 0.986539718794187, 0.8805018632861391, 0.9773541109124837, 0.059810277104540045, 0.9330403228308247, 0.918434678306466, 0.9866043477269296, 0.9846932669979234, 0.8945159779459366, 0.9471499850374798, 0.029143076462691684, 0.9826176737267707, 0.9671576440317932, 0.9888883028196658, 0.9892868359191503, 0.6292671013669175, 0.3146335506834588, 0.11211781825870125, 0.8408836369402594, 0.8933193434516129, 0.9938080608097122, 0.8246004864098544, 0.9419667421491221, 0.9475705547477792, 0.9686170234992131, 0.9716158149633652, 0.9137035245000528, 0.8890934933538386, 0.9391900623922363, 0.884860767370288, 0.946382042459473, 0.9677285848762723, 0.9792489942716088, 0.9273282911158819, 0.9710358668532135, 0.9853302285029041, 0.9909616797456955, 0.8606989710300991, 0.9651352518136189, 0.9845542711377964, 0.8785062985267142, 0.9145265196883702, 0.9315995736514872, 0.8629346200238271, 0.9657023649942066, 0.9040534673213887, 0.9694042976896173, 0.9504486563413282, 0.8801934003221029, 0.03227492456965719, 0.9521102748048873, 0.977039883609295, 0.8923099436242526, 0.059487329574950176, 0.9348669346241317, 0.016118395424553997, 0.032236790849107994, 0.8902838921965368, 0.957968295472224, 0.8500469100814966, 0.958582025227435, 0.9369113716705122, 0.9812247066682258, 0.9127213823699737, 0.027243376004896125, 0.9262747841664682, 0.027243376004896125, 0.9891837050406986, 0.00284248191103649, 0.00284248191103649, 0.00284248191103649, 0.725876722557228, 0.9546730857191857, 0.9953154645716485, 0.9818252193251097, 0.9743364219849812, 0.9894966128457837, 0.8158120625618077, 0.9388230991731512, 0.9588949238720492, 0.9734079225915638, 0.9431513430539127, 0.21975758745830531, 0.7142121592394922, 0.9285025810320051, 0.8640183370437907, 0.8660096439037354, 0.9820103447472571, 0.9780480660140815, 0.8915029696761064, 0.0238963362072217, 0.955853448288868, 0.9668093604052175, 0.019954150444718908, 0.004988537611179727, 0.6485098894533645, 0.3192664071155025, 0.9820799426017495, 0.9686294517165139, 0.6864155765575959, 0.09111702809940454, 0.6378191966958318, 0.18223405619880909, 0.9551910758986116, 0.8862640295865061, 0.9583597320709359, 0.9486223064600564, 0.958093331752729, 0.98393784016751, 0.9577512110545102, 0.8832722025008736, 0.8187248739648693, 0.9961679486856698, 0.983146808891548, 0.9429508200568603, 0.9298040975531588, 0.9802136606516285, 0.9046243593057499, 0.05653902245660937, 0.8617319498481703, 0.6664405944867079, 0.271512834790881, 0.02468298498098918, 0.014423933152619818, 0.014423933152619818, 0.9375556549202881, 0.9862706996546443, 0.9872856079365766, 0.0712279868496686, 0.8547358421960232, 0.9453787733669916, 0.9584129480042495, 0.9373286387373294, 0.7523859437425234, 0.9708242968656156, 0.9633457156163773, 0.8842510121021014, 0.9255474878891108, 0.987373242987893, 0.9381479489689972, 0.8409227946780399, 0.07007689955650333, 0.9810413212307387, 0.9679286566874068, 0.9706902754731868, 0.9782445866621892, 0.9629028280725124, 0.9817053231036942, 0.9590831015524514, 0.9497199862744968, 0.9730304583140745, 0.8107977083278548, 0.17626037137562062, 0.9405043249727918, 0.9928630396305413, 0.9845713034555462, 0.858925979472569, 0.9382659541708457, 0.9881877241932586, 0.9908820999936658, 0.9830688594834406, 0.9790420030218787, 0.9355168910912658, 0.9657625571071633, 0.9483929286948705, 0.7880860430008018, 0.9307747689800498, 0.9453422034409615, 0.9746705270536359, 0.8845003332155317, 0.9332724019892109, 0.9136658093515174, 0.976167201074332, 0.9544001707934776, 0.016630052911243007, 0.9645430688520945, 0.9737772549620648, 0.009016456064463562, 0.9567075924293128, 0.874005707529732, 0.9794264420071032, 0.9262699214268904, 0.9464722298231291, 0.019444306172409196, 0.9527710024480507, 0.9615048166535606, 0.9884516868727656, 0.9373160859895832, 0.9802004456749828, 0.9277655334449515, 0.03954840890326761, 0.9491618136784226, 0.9728611031834612, 0.8660419333191943, 0.991116593233863, 0.8016775448008248, 0.9414931914622775, 0.9555017629535635, 0.9567580575680789, 0.9557693708275418, 0.9092039666122724, 0.03496938333124125, 0.8861865788631942, 0.052991868190370474, 0.9008617592362981, 0.9005997070043071, 0.9339156750506988, 0.9463626074741617, 0.024617034028956583, 0.9354472931003502, 0.8580439787828579, 0.9715355894309293, 0.987223804515452, 0.9229946397803873, 0.005523177021710274, 0.966555978799298, 0.011046354043420548, 0.005523177021710274, 0.005523177021710274, 0.869315506054281, 0.9494900324821839, 0.9124448030529904, 0.9488392591074127, 0.022591410931128875, 0.9811226340482118, 0.8748675652280287, 0.988824892319987, 0.9712026131788617, 0.012949368175718156, 0.9837837111873409, 0.9089525431041874, 0.9049430651770647, 0.27596768847307784, 0.6071289146407712, 0.9108703021589573, 0.9742244348887954, 0.8920541211391382, 0.967447988353714, 0.8566269468988492, 0.07440423483895799, 0.8184465832285378, 0.030452456273020963, 0.9592523726001603, 0.9633140253351511, 0.9686706653691793, 0.9225988507224983, 0.9359682205954205, 0.042629364454207945, 0.8952166535383668, 0.9894199216026892, 0.15371409505392217, 0.7685704752696108, 0.941587438970469, 0.9551926148590174, 0.9837042547136342, 0.8566529549769731, 0.10383672181539068, 0.9866376934084851, 0.8842434731966864, 0.05337077522135932, 0.8539324035417492, 0.053701480113390064, 0.9431322444914131, 0.0063788800112977995, 0.988726401751159, 0.8927687501228624, 0.9800986985041663, 0.006667338085062356, 0.9551785746692624, 0.013843167748829889, 0.9211419474306619, 0.8449339191285622, 0.9855357492808573, 0.8971237770954594, 0.0037298663209552325, 0.01491946528382093, 0.9809548424112262, 0.9677421431698111, 0.9737484411745191, 0.8857867272410948, 0.8835016205147256, 0.9763685860604483, 0.9841638289136018, 0.9607806733264971, 0.867942977693018, 0.8431036100168423, 0.9495399385723003, 0.9824453044605184, 0.9503989575055987, 0.006378516493326165, 0.03827109895995699, 0.9655451002058976, 0.9402704103906214, 0.0395903330690788, 0.8922371323792135, 0.9406092281336366, 0.899180492149762, 0.8305510460203183, 0.667383487524061, 0.8410522054876473, 0.8637371413647332, 0.08935211807221378, 0.04169765510036643, 0.005956807871480918, 0.9373038698373752, 0.8785164213649143, 0.048806467853606345, 0.9824170492784219, 0.8938689384741932, 0.9640895174234242, 0.9193128136009466, 0.9384856490960501, 0.9720166655309875, 0.9001662109176919, 0.9361549921291216, 0.9785855681281163, 0.9578192673403115, 0.9126016166868443, 0.8965547531651785, 0.8130496516912851, 0.9857309963243921, 0.8165285292237695, 0.8976762247875559, 0.967789891998686, 0.9605322677509736, 0.9507316895379323, 0.9705155469912907, 0.9428516355937032, 0.9514484881287099, 0.9460326438132918, 0.9156459852009989, 0.9491089088847259, 0.9834002983867783, 0.9724709806814452, 0.9642423098834414, 0.8831194667991275, 0.9540759868729872, 0.9485408717289907, 0.9172470149452127, 0.04827615868132698, 0.9751049768639215, 0.9455636480911983, 0.9426960386894419, 0.8489530285903442, 0.8340788594119051, 0.9501865521092929, 0.9643299355222866, 0.8808943931467558, 0.058726292876450384, 0.9691686877164436, 0.9337361080754844, 0.025236111029067143, 0.8943204313374995, 0.934775917639179, 0.8005147892779292, 0.9723421222911832, 0.9791177880383084, 0.9372315773240213, 0.9048881585479358, 0.9602875675296142, 0.008579752100168255, 0.9695119873190129, 0.008579752100168255, 0.9246905877040661, 0.9520279223785018, 0.8991136508607736, 0.9599369177841898, 0.8996213047268092, 0.9827558112154839, 0.005429590117212619, 0.005429590117212619, 0.987208202396628, 0.9782719161058593, 0.9498960846326124, 0.9340193293560255, 0.9580499083644135, 0.014969529818193961, 0.9790372479064768, 0.9019440833658479, 0.7183752260227679, 0.9507872924428696, 0.8541608068446488, 0.9431741458084357, 0.9662396409184957, 0.9889731458095481, 0.004474991609997955, 0.682146950249525, 0.911583990437858, 0.9457582159137297, 0.866519328783773, 0.8808439128568963, 0.9687545454308586, 0.9853227298963659, 0.9225379775513405, 0.7944878914585858, 0.9302268553174071, 0.9261103199811013, 0.9786213936018461, 0.9832031766334293, 0.8649545767195875, 0.8787803507763323, 0.05858535671842215, 0.8772656105955796, 0.9761464656589767, 0.9726888341819779, 0.9291638081205833, 0.9568506035895109, 0.892336996091455, 0.9790544989847823, 0.9105729855176734, 0.8941746462143175, 0.8928178231242169, 0.03571271292496867, 0.9721729993249846, 0.8664855995583607, 0.8996127965681113, 0.864995262272143, 0.9460211143347128, 0.9534418961993271, 0.985054429086907, 0.952301975711873, 0.9582376295567925, 0.9195362132907987, 0.9541358721223137, 0.9188385696997685, 0.6836901802066896, 0.08793212879697161, 0.8793212879697161, 0.9777946321886148, 0.03156478472139382, 0.9469435416418146, 0.03387219301980649, 0.9145492115347754, 0.8726680340150046, 0.919374539057535, 0.9885848181835858, 0.933479026477565, 0.824351644550596, 0.9505173926037329, 0.9678767364078079, 0.9424497389435038, 0.9913495838074885, 0.9875240914490604, 0.9286379270762822, 0.978531807553593, 0.8617353650360646, 0.01958489465991056, 0.10010057270620952, 0.01740879525325383, 0.0021760994066567286, 0.990789756567636, 0.003135410622049481, 0.006973241337908644, 0.9902002699830273, 0.008338042763941901, 0.9838890461451444, 0.30894068690538057, 0.6178813738107611, 0.9747290471736448, 0.8825977122749393, 0.9603048983563537, 0.3304394078090192, 0.5507323463483653, 0.9644297944421683, 0.993552026230482, 0.890680158874884, 0.9578479201139457, 0.9090201163746243, 0.9291775711880291, 0.8161997113613302, 0.9680023315730154, 0.9325148481276678, 0.07235836602808413, 0.8683003923370095, 0.8875275372138915, 0.9220892505810844, 0.9282641056155542, 0.986191593949257, 0.006362526412575851, 0.814555869225993, 0.8383625114662874, 0.9567197091381264, 0.01739490380251139, 0.9318633009200695, 0.8685798732688245, 0.899437996894284, 0.979779772778077, 0.941252933585848, 0.9491603318836284, 0.9837816899213929, 0.9526595113300252, 0.9593345566806376, 0.9540152519931225, 0.9741208826974181, 0.9651612177317757, 0.03468254247099731, 0.9364286467169274, 0.9401580374242343, 0.9646313229563097, 0.8173601407954598, 0.9741599425963916, 0.903497467398782, 0.9046384547048674, 0.963211204007013, 0.989152146705198, 0.9790533721625929, 0.9111193775642256, 0.0917389520703146, 0.8256505686328314, 0.8159456670904481, 0.8126191118559081, 0.9804622633564395, 0.7815832343851679, 0.9754510538233667, 0.9866856544691621, 0.8695758667609792, 0.9679639969477053, 0.8836404457332643, 0.9627919856523092, 0.9449545833986871, 0.9634196604248485, 0.9857248932331267, 0.9864459824522354, 0.9627875866754253, 0.9241118767973736, 0.9895384432046488, 0.9919203616023708, 0.026916607236031606, 0.9420812532611063, 0.9342297485874791, 0.978547560572951, 0.869822225095295, 0.820408603198503, 0.9612885025356855, 0.9849786224301739, 0.9926645026286853, 0.94560513105815, 0.786178295189044, 0.8070637258251163, 0.16141274516502324, 0.9232579610975612, 0.9336815039633158, 0.16433127642609485, 0.7394907439174269, 0.8565730597542911, 0.9333331007842517, 0.9399231905704055, 0.047792704605274856, 0.015930901535091618, 0.028550795076098562, 0.9421762375112525, 0.9126135190825747, 0.9653363256848363, 0.8033054407374893, 0.9661756885917959, 0.9662522629182333, 0.9833496971702178, 0.9809268714462576, 0.9734063046672591, 0.7743353072507231, 0.9822094710494339, 0.851218274730421, 0.9753065788205556, 0.9888388705524033, 0.9854770533184795, 0.9180299744393121, 0.0399143467147527, 0.8083736567412363, 0.9799812818473606, 0.7559408703857468, 0.10799155291224953, 0.0265024156264196, 0.9275845469246861, 0.8210109812555387, 0.974927574012516, 0.9774173997764165, 0.011821306965476511, 0.9693471711690739, 0.9647722596540473, 0.8210632799398614, 0.8283340155949019, 0.07530309232680926, 0.8733124148536141, 0.9472473001229437, 0.9862811495364759, 0.9780452085999025, 0.20338140138593241, 0.6779380046197747, 0.9778671816118089, 0.9731165650415737, 0.01876533321016809, 0.0026807618871668697, 0.0026807618871668697, 0.9564476972363191, 0.9845414721243351, 0.8515153475920745, 0.08515153475920745, 0.05149627412957694, 0.9269329343323849, 0.9246344286914718, 0.033022658167552565, 0.9397559200740825, 0.9810322074919589, 0.7136048199562783, 0.9670324861392668, 0.9840375929430277, 0.9466263214515797, 0.8516347808375317, 0.9647439984474664, 0.9497291213027622, 0.9185352697340022, 0.9587098122771807, 0.9765490791725056, 0.9691368582422981, 0.8212245895679896, 0.910007633357229, 0.9313655873108273, 0.9565877387884585, 0.9580997076165523, 0.864137637860966, 0.978975808550016, 0.9742273002183214, 0.9588690729031293, 0.974628514979629, 0.8616207615031316, 0.9825109233036724, 0.8978477873320958, 0.9644897698997673, 0.9860642423543525, 0.9522783348991314, 0.9781998950172538, 0.07034622420468895, 0.8441546904562673, 0.9897714729079214, 0.8343206349192974, 0.1191886621313282, 0.9403438928833788, 0.7627598485665381, 0.9032571259736997, 0.6841021789104745, 0.11401702981841243, 0.07050789698185965, 0.8460947637823159, 0.8998143976311234, 0.8497567509797108, 0.06536590392151621, 0.9764723790081514, 0.9584659183233553, 0.92886189826848, 0.6516082094956233, 0.2683092627334919, 0.903438770092903, 0.9731647405383476, 0.08493233463873252, 0.8917895137066916, 0.9608198759042916, 0.8478081860232082, 0.9606410253182122, 0.0036387917625689855, 0.0036387917625689855, 0.0036387917625689855, 0.0254715423379829, 0.9552491413215262, 0.9490079283095353, 0.9809883314571793, 0.9711865295506875, 0.01768154566882649, 0.9636442389510437, 0.9931374644568959], \"Term\": [\"\\\"\", \"'\", \"'\", \"'\", \"'\", \"'\", \"'\", \"'\", \"accelerate\", \"access\", \"account\", \"achieve\", \"act\", \"action\", \"activity\", \"add\", \"addition\", \"addition\", \"addition\", \"additional\", \"adequate\", \"administration\", \"affordable\", \"age\", \"agency\", \"agri\", \"agricultural\", \"agriculture\", \"agriculture\", \"aim\", \"air\", \"al\", \"align\", \"allocation\", \"allow\", \"alternate\", \"amend\", \"amend\", \"amend\", \"amendment\", \"amrit\", \"animal\", \"animal\", \"annexure\", \"announce\", \"appeal\", \"application\", \"approach\", \"area\", \"arise\", \"aspirational\", \"assessment\", \"asset\", \"assistance\", \"atmanirbhar\", \"atmanirbharta\", \"atmanirbharta\", \"attract\", \"audit\", \"augment\", \"august\", \"authority\", \"available\", \"awa\", \"awa\", \"b\", \"bank\", \"banking\", \"base\", \"basic\", \"basis\", \"benefit\", \"bharat\", \"bio\", \"bond\", \"boost\", \"borrowing\", \"brand\", \"bring\", \"budget\", \"budget\", \"budget\", \"budgetary\", \"build\", \"building\", \"burden\", \"business\", \"c\", \"capability\", \"capacity\", \"capital\", \"capital\", \"carbon\", \"carry\", \"case\", \"caste\", \"cent\", \"cent\", \"central\", \"centre\", \"certain\", \"cess\", \"cgst\", \"cgst\", \"chain\", \"chain\", \"challenge\", \"change\", \"charge\", \"chemical\", \"child\", \"citizen\", \"city\", \"claim\", \"clarify\", \"class\", \"clean\", \"close\", \"come\", \"commission\", \"commit\", \"committee\", \"company\", \"compliance\", \"comprehensive\", \"concessional\", \"condition\", \"confidence\", \"constitute\", \"construction\", \"context\", \"continue\", \"contribute\", \"contribution\", \"cooperative\", \"corpus\", \"corridor\", \"corridor\", \"cost\", \"council\", \"council\", \"country\", \"country\", \"country\", \"course\", \"cover\", \"coverage\", \"covid\", \"cps\", \"create\", \"creation\", \"credit\", \"credit\", \"credit\", \"crore\", \"crore\", \"crore\", \"crore\", \"crowd\", \"current\", \"custom\", \"customs\", \"d\", \"date\", \"datum\", \"day\", \"debt\", \"deduction\", \"deep\", \"defence\", \"defence\", \"deficit\", \"delivery\", \"demand\", \"department\", \"deposit\", \"despite\", \"detail\", \"detail\", \"develop\", \"development\", \"development\", \"development\", \"development\", \"digital\", \"direct\", \"disease\", \"disinvestment\", \"disinvestment\", \"disinvestment\", \"dispute\", \"distribute\", \"distribution\", \"district\", \"dividend\", \"domestic\", \"double\", \"drive\", \"driver\", \"duty\", \"e\", \"early\", \"earn\", \"ease\", \"east\", \"east\", \"eastern\", \"economic\", \"economic\", \"economic\", \"economy\", \"economy\", \"economy\", \"education\", \"effect\", \"effective\", \"effective\", \"efficiency\", \"efficient\", \"effort\", \"electric\", \"electronic\", \"eligible\", \"eliminate\", \"emerge\", \"employee\", \"employment\", \"empower\", \"empower\", \"enable\", \"encourage\", \"end\", \"energy\", \"enhance\", \"ensure\", \"enterprise\", \"entity\", \"establish\", \"estimate\", \"estimate\", \"exceed\", \"exemption\", \"exist\", \"expand\", \"expect\", \"expenditure\", \"export\", \"extend\", \"f\", \"face\", \"facilitate\", \"facilitation\", \"facility\", \"family\", \"far\", \"farmer\", \"farming\", \"fast\", \"fertilizer\", \"file\", \"filing\", \"finance\", \"finance\", \"financial\", \"financial\", \"financing\", \"fintech\", \"fiscal\", \"fishery\", \"focus\", \"follow\", \"follow\", \"food\", \"foreign\", \"form\", \"forward\", \"framework\", \"free\", \"free\", \"fuel\", \"fulfil\", \"fund\", \"funding\", \"fy\", \"g\", \"gain\", \"gas\", \"gdp\", \"gdp\", \"generate\", \"generation\", \"generation\", \"get\", \"gift\", \"give\", \"global\", \"global\", \"go\", \"gold\", \"good\", \"governance\", \"government\", \"government\", \"government\", \"government\", \"government\", \"great\", \"green\", \"grow\", \"growth\", \"growth\", \"gst\", \"guide\", \"health\", \"help\", \"help\", \"high\", \"highway\", \"holistic\", \"honourable\", \"honourable\", \"hope\", \"house\", \"household\", \"housing\", \"human\", \"husbandry\", \"husbandry\", \"ifsc\", \"ifsc\", \"ii\", \"iii\", \"impact\", \"implement\", \"implementation\", \"implementation\", \"import\", \"importance\", \"importance\", \"important\", \"improve\", \"incentive\", \"incentivise\", \"incentivise\", \"include\", \"inclusion\", \"inclusive\", \"inclusive\", \"income\", \"income\", \"increase\", \"increase\", \"independence\", \"india\", \"india\", \"indian\", \"indian\", \"indirect\", \"individual\", \"industry\", \"information\", \"infrastructure\", \"infrastructure\", \"infrastructure\", \"initiate\", \"initiative\", \"inland\", \"innovation\", \"input\", \"institution\", \"insurance\", \"integrate\", \"interim\", \"international\", \"introduce\", \"investment\", \"investment\", \"investment\", \"issue\", \"item\", \"item\", \"jal\", \"job\", \"joint\", \"kaal\", \"kalyan\", \"l\", \"lakh\", \"lakh\", \"lakh\", \"lakh\", \"land\", \"large\", \"large\", \"launch\", \"lay\", \"lead\", \"leave\", \"legislative\", \"level\", \"life\", \"like\", \"limit\", \"link\", \"list\", \"live\", \"living\", \"loan\", \"local\", \"location\", \"long\", \"loss\", \"low\", \"major\", \"make\", \"manage\", \"management\", \"mandate\", \"mantri\", \"manufacture\", \"manufacturing\", \"march\", \"mark\", \"market\", \"material\", \"maximum\", \"maximum\", \"measure\", \"meet\", \"mention\", \"micro\", \"migrant\", \"mineral\", \"minimum\", \"minister\", \"minister\", \"ministry\", \"mission\", \"mission\", \"mobile\", \"model\", \"modern\", \"month\", \"msme\", \"multi\", \"n\", \"nation\", \"national\", \"national\", \"national\", \"natural\", \"nature\", \"necessary\", \"need\", \"network\", \"new\", \"new\", \"new\", \"nil\", \"non\", \"not\", \"nssf\", \"number\", \"number\", \"o\", \"objective\", \"obtain\", \"oil\", \"old\", \"online\", \"opportunity\", \"order\", \"order\", \"orient\", \"outcome\", \"outlay\", \"overcome\", \"package\", \"pandemic\", \"part\", \"partner\", \"partnership\", \"past\", \"path\", \"pay\", \"payment\", \"pension\", \"people\", \"people\", \"performance\", \"period\", \"person\", \"personal\", \"phase\", \"physical\", \"plan\", \"planning\", \"platform\", \"pm\", \"pm\", \"policy\", \"poor\", \"poshan\", \"position\", \"post\", \"potential\", \"power\", \"pradhan\", \"present\", \"price\", \"primary\", \"prime\", \"principle\", \"priority\", \"priority\", \"private\", \"process\", \"process\", \"processing\", \"processing\", \"procurement\", \"produce\", \"product\", \"production\", \"productivity\", \"professional\", \"programme\", \"progress\", \"project\", \"promote\", \"promotion\", \"proposal\", \"propose\", \"propose\", \"propose\", \"propose\", \"propose\", \"provide\", \"provide\", \"provision\", \"provision\", \"public\", \"public\", \"purchase\", \"purchase\", \"purpose\", \"quality\", \"r\", \"railway\", \"railway\", \"raise\", \"rate\", \"ration\", \"rationalization\", \"reach\", \"real\", \"realize\", \"receipt\", \"receive\", \"recently\", \"recently\", \"recognize\", \"recommendation\", \"record\", \"reduce\", \"reduce\", \"reduction\", \"refinance\", \"reform\", \"reform\", \"regime\", \"region\", \"regulatory\", \"relate\", \"relax\", \"relevant\", \"relief\", \"remain\", \"remove\", \"renewable\", \"require\", \"requirement\", \"research\", \"research\", \"resident\", \"resolution\", \"resolve\", \"resource\", \"respect\", \"responsibility\", \"result\", \"return\", \"revise\", \"right\", \"rise\", \"rise\", \"risk\", \"robust\", \"roll\", \"rupee\", \"rural\", \"s\", \"safety\", \"sale\", \"saving\", \"say\", \"scale\", \"schedule\", \"scheme\", \"school\", \"scrap\", \"secondary\", \"section\", \"sector\", \"security\", \"security\", \"self\", \"senior\", \"separate\", \"serve\", \"service\", \"set\", \"shall\", \"share\", \"show\", \"significantly\", \"significantly\", \"silver\", \"sir\", \"sitharaman\", \"sitharaman\", \"size\", \"skill\", \"small\", \"small\", \"small\", \"social\", \"social\", \"society\", \"solar\", \"solution\", \"speaker\", \"special\", \"specific\", \"specify\", \"speech\", \"spirit\", \"st\", \"stakeholder\", \"start\", \"state\", \"steel\", \"step\", \"step\", \"storage\", \"strategic\", \"strategy\", \"strategy\", \"strengthen\", \"strengthen\", \"strong\", \"structure\", \"supply\", \"support\", \"support\", \"surcharge\", \"sustain\", \"sustainable\", \"sustainable\", \"synergy\", \"system\", \"t\", \"take\", \"target\", \"target\", \"tariff\", \"tax\", \"tax\", \"tax\", \"tax\", \"taxable\", \"taxation\", \"taxis\", \"taxis\", \"taxpayer\", \"taxpayer\", \"technology\", \"technology\", \"term\", \"th\", \"thousand\", \"till\", \"time\", \"timely\", \"today\", \"total\", \"trade\", \"train\", \"training\", \"transaction\", \"transfer\", \"transform\", \"transition\", \"transparency\", \"transparent\", \"transport\", \"tribal\", \"trust\", \"undertake\", \"union\", \"unit\", \"university\", \"up\", \"upgradation\", \"upto\", \"urban\", \"urea\", \"use\", \"vaccination\", \"vaccination\", \"value\", \"vehicle\", \"vehicle\", \"vi\", \"vishwas\", \"vision\", \"vulnerable\", \"vulnerable\", \"w\", \"w\", \"want\", \"way\", \"way\", \"welfare\", \"well\", \"withdraw\", \"woman\", \"woman\", \"word\", \"work\", \"worker\", \"worker\", \"world\", \"y\", \"year\", \"year\", \"year\", \"year\", \"year\", \"yojana\", \"youth\", \"\\u2013\", \"\\u2019\", \"\\u2019s\", \"\\u2019s\", \"\\uf0b7\"]}, \"R\": 50, \"lambda.step\": 0.01, \"plot.opts\": {\"xlab\": \"PC1\", \"ylab\": \"PC2\"}, \"topic.order\": [12, 9, 10, 3, 6, 8, 5, 7, 2, 11, 4, 1]};\n",
              "\n",
              "function LDAvis_load_lib(url, callback){\n",
              "  var s = document.createElement('script');\n",
              "  s.src = url;\n",
              "  s.async = true;\n",
              "  s.onreadystatechange = s.onload = callback;\n",
              "  s.onerror = function(){console.warn(\"failed to load library \" + url);};\n",
              "  document.getElementsByTagName(\"head\")[0].appendChild(s);\n",
              "}\n",
              "\n",
              "if(typeof(LDAvis) !== \"undefined\"){\n",
              "   // already loaded: just create the visualization\n",
              "   !function(LDAvis){\n",
              "       new LDAvis(\"#\" + \"ldavis_el5241404821988597607334866183\", ldavis_el5241404821988597607334866183_data);\n",
              "   }(LDAvis);\n",
              "}else if(typeof define === \"function\" && define.amd){\n",
              "   // require.js is available: use it to load d3/LDAvis\n",
              "   require.config({paths: {d3: \"https://d3js.org/d3.v5\"}});\n",
              "   require([\"d3\"], function(d3){\n",
              "      window.d3 = d3;\n",
              "      LDAvis_load_lib(\"https://cdn.jsdelivr.net/gh/bmabey/pyLDAvis@3.4.0/pyLDAvis/js/ldavis.v3.0.0.js\", function(){\n",
              "        new LDAvis(\"#\" + \"ldavis_el5241404821988597607334866183\", ldavis_el5241404821988597607334866183_data);\n",
              "      });\n",
              "    });\n",
              "}else{\n",
              "    // require.js not available: dynamically load d3 & LDAvis\n",
              "    LDAvis_load_lib(\"https://d3js.org/d3.v5.js\", function(){\n",
              "         LDAvis_load_lib(\"https://cdn.jsdelivr.net/gh/bmabey/pyLDAvis@3.4.0/pyLDAvis/js/ldavis.v3.0.0.js\", function(){\n",
              "                 new LDAvis(\"#\" + \"ldavis_el5241404821988597607334866183\", ldavis_el5241404821988597607334866183_data);\n",
              "            })\n",
              "         });\n",
              "}\n",
              "</script>"
            ]
          },
          "metadata": {},
          "execution_count": 21
        }
      ]
    },
    {
      "cell_type": "code",
      "source": [
        "# Coherence Score\n",
        "coherence_model_lda = CoherenceModel(model=lda_model, texts=bigram, dictionary=id2word, coherence='c_v')\n",
        "coherence_lda = coherence_model_lda.get_coherence()\n",
        "\n",
        "print('\\nCoherence Score: ', coherence_lda)\n"
      ],
      "metadata": {
        "colab": {
          "base_uri": "https://localhost:8080/"
        },
        "id": "GgKuMOiEdWxm",
        "outputId": "66cf3c98-a652-4e31-c612-797d2139e365"
      },
      "execution_count": null,
      "outputs": [
        {
          "output_type": "stream",
          "name": "stdout",
          "text": [
            "\n",
            "Coherence Score:  0.6892304749061648\n"
          ]
        }
      ]
    }
  ]
}